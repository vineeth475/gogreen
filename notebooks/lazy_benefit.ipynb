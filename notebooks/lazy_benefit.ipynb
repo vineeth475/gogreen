{
  "cells": [
    {
      "cell_type": "markdown",
      "metadata": {
        "id": "view-in-github",
        "colab_type": "text"
      },
      "source": [
        "<a href=\"https://colab.research.google.com/github/vineeth475/gogreen/blob/master/notebooks/lazy_benefit.ipynb\" target=\"_parent\"><img src=\"https://colab.research.google.com/assets/colab-badge.svg\" alt=\"Open In Colab\"/></a>"
      ]
    },
    {
      "cell_type": "code",
      "execution_count": 3,
      "id": "6653229c-d6cc-4377-a0cf-04de81f75d8d",
      "metadata": {
        "id": "6653229c-d6cc-4377-a0cf-04de81f75d8d"
      },
      "outputs": [],
      "source": [
        "%load_ext fireducks.pandas\n",
        "import numpy as np\n",
        "import fireducks.pandas as pd"
      ]
    },
    {
      "cell_type": "code",
      "source": [
        "pip install fireducks"
      ],
      "metadata": {
        "id": "yTq9a7TFrMbx",
        "outputId": "bd5b6b23-12e7-4d10-8062-d29b7417c9f6",
        "colab": {
          "base_uri": "https://localhost:8080/"
        }
      },
      "id": "yTq9a7TFrMbx",
      "execution_count": 2,
      "outputs": [
        {
          "output_type": "stream",
          "name": "stdout",
          "text": [
            "Collecting fireducks\n",
            "  Downloading fireducks-1.1.6-cp310-cp310-manylinux_2_28_x86_64.whl.metadata (961 bytes)\n",
            "Collecting firefw==1.1.6 (from fireducks)\n",
            "  Downloading firefw-1.1.6-py3-none-any.whl.metadata (818 bytes)\n",
            "Requirement already satisfied: pandas<2.3.0,>=1.5.3 in /usr/local/lib/python3.10/dist-packages (from fireducks) (2.2.2)\n",
            "Collecting pyarrow<18.2,>=18.1 (from fireducks)\n",
            "  Downloading pyarrow-18.1.0-cp310-cp310-manylinux_2_28_x86_64.whl.metadata (3.3 kB)\n",
            "Requirement already satisfied: numpy>=1.22.4 in /usr/local/lib/python3.10/dist-packages (from pandas<2.3.0,>=1.5.3->fireducks) (1.26.4)\n",
            "Requirement already satisfied: python-dateutil>=2.8.2 in /usr/local/lib/python3.10/dist-packages (from pandas<2.3.0,>=1.5.3->fireducks) (2.8.2)\n",
            "Requirement already satisfied: pytz>=2020.1 in /usr/local/lib/python3.10/dist-packages (from pandas<2.3.0,>=1.5.3->fireducks) (2024.2)\n",
            "Requirement already satisfied: tzdata>=2022.7 in /usr/local/lib/python3.10/dist-packages (from pandas<2.3.0,>=1.5.3->fireducks) (2024.2)\n",
            "Requirement already satisfied: six>=1.5 in /usr/local/lib/python3.10/dist-packages (from python-dateutil>=2.8.2->pandas<2.3.0,>=1.5.3->fireducks) (1.17.0)\n",
            "Downloading fireducks-1.1.6-cp310-cp310-manylinux_2_28_x86_64.whl (7.2 MB)\n",
            "\u001b[2K   \u001b[90m━━━━━━━━━━━━━━━━━━━━━━━━━━━━━━━━━━━━━━━━\u001b[0m \u001b[32m7.2/7.2 MB\u001b[0m \u001b[31m61.3 MB/s\u001b[0m eta \u001b[36m0:00:00\u001b[0m\n",
            "\u001b[?25hDownloading firefw-1.1.6-py3-none-any.whl (12 kB)\n",
            "Downloading pyarrow-18.1.0-cp310-cp310-manylinux_2_28_x86_64.whl (40.1 MB)\n",
            "\u001b[2K   \u001b[90m━━━━━━━━━━━━━━━━━━━━━━━━━━━━━━━━━━━━━━━━\u001b[0m \u001b[32m40.1/40.1 MB\u001b[0m \u001b[31m16.3 MB/s\u001b[0m eta \u001b[36m0:00:00\u001b[0m\n",
            "\u001b[?25hInstalling collected packages: pyarrow, firefw, fireducks\n",
            "  Attempting uninstall: pyarrow\n",
            "    Found existing installation: pyarrow 17.0.0\n",
            "    Uninstalling pyarrow-17.0.0:\n",
            "      Successfully uninstalled pyarrow-17.0.0\n",
            "\u001b[31mERROR: pip's dependency resolver does not currently take into account all the packages that are installed. This behaviour is the source of the following dependency conflicts.\n",
            "cudf-cu12 24.10.1 requires pyarrow<18.0.0a0,>=14.0.0, but you have pyarrow 18.1.0 which is incompatible.\n",
            "pylibcudf-cu12 24.10.1 requires pyarrow<18.0.0a0,>=14.0.0, but you have pyarrow 18.1.0 which is incompatible.\u001b[0m\u001b[31m\n",
            "\u001b[0mSuccessfully installed fireducks-1.1.6 firefw-1.1.6 pyarrow-18.1.0\n"
          ]
        }
      ]
    },
    {
      "cell_type": "code",
      "source": [],
      "metadata": {
        "id": "fBoi-Cverj3w",
        "outputId": "94f3593a-7c06-4610-84d0-f47ac430c398",
        "colab": {
          "base_uri": "https://localhost:8080/"
        }
      },
      "id": "fBoi-Cverj3w",
      "execution_count": 4,
      "outputs": [
        {
          "output_type": "stream",
          "name": "stdout",
          "text": [
            "2.2.2\n"
          ]
        }
      ]
    },
    {
      "cell_type": "markdown",
      "id": "7b36b38f-368a-4046-932c-1be4e8490e14",
      "metadata": {
        "id": "7b36b38f-368a-4046-932c-1be4e8490e14"
      },
      "source": [
        "### 1. Common Sub-expression Elimination"
      ]
    },
    {
      "cell_type": "code",
      "execution_count": null,
      "id": "8878c623-6a61-4edc-9398-b9cab84f6faa",
      "metadata": {
        "id": "8878c623-6a61-4edc-9398-b9cab84f6faa",
        "outputId": "3d3edd08-05f6-4f0c-8866-d9c326c25556"
      },
      "outputs": [
        {
          "data": {
            "text/plain": [
              "0      2001-03-09\n",
              "1      2003-05-03\n",
              "2      2003-03-16\n",
              "3      2001-05-13\n",
              "4      2004-09-16\n",
              "          ...    \n",
              "995    2004-05-03\n",
              "996    2004-11-03\n",
              "997    2001-01-08\n",
              "998    2002-02-10\n",
              "999    2003-04-13\n",
              "Length: 1000, dtype: object"
            ]
          },
          "execution_count": 2,
          "metadata": {},
          "output_type": "execute_result"
        }
      ],
      "source": [
        "def generate_random_dates(size):\n",
        "    year = [str(i) for i in np.random.choice(range(2000, 2005), size)]\n",
        "    month = [str(i).zfill(2) for i in np.random.choice(range(1, 13), size)]\n",
        "    day = [str(i).zfill(2) for i in np.random.choice(range(1, 29), size)]\n",
        "    return pd.Series(year) + \"-\" + pd.Series(month) + \"-\" + pd.Series(day)\n",
        "\n",
        "s = generate_random_dates(10 ** 3)\n",
        "s"
      ]
    },
    {
      "cell_type": "code",
      "execution_count": null,
      "id": "62ddf60f-fb17-43ba-bb7d-78a05630335c",
      "metadata": {
        "id": "62ddf60f-fb17-43ba-bb7d-78a05630335c"
      },
      "outputs": [],
      "source": [
        "def demo_cse(s, is_eager_mode = False):\n",
        "    from fireducks.core import get_fireducks_options\n",
        "    get_fireducks_options().set_benchmark_mode(is_eager_mode)\n",
        "\n",
        "    df = pd.DataFrame()\n",
        "    df[\"year\"] = pd.to_datetime(s).dt.year\n",
        "    df[\"month\"] = pd.to_datetime(s).dt.month\n",
        "    df[\"day\"] = pd.to_datetime(s).dt.day\n",
        "    # sample operation: calculate year-month-wise frequency of days\n",
        "    df.groupby([\"year\", \"month\"])[\"day\"].count().plot()"
      ]
    },
    {
      "cell_type": "code",
      "execution_count": null,
      "id": "e3934f2a-aa43-4154-8ad3-2c2ddc6cb7fd",
      "metadata": {
        "id": "e3934f2a-aa43-4154-8ad3-2c2ddc6cb7fd",
        "outputId": "98ec3a0d-713d-484c-d1ea-61e5293414d6"
      },
      "outputs": [
        {
          "data": {
            "image/png": "[encoded data removed]",
            "text/plain": [
              "<Figure size 640x480 with 1 Axes>"
            ]
          },
          "metadata": {},
          "output_type": "display_data"
        },
        {
          "data": {
            "text/html": [
              "<style type=\"text/css\">\n",
              "#T_4ea35 caption {\n",
              "  text-align: center;\n",
              "  color: salmon;\n",
              "}\n",
              "</style>\n",
              "<table id=\"T_4ea35\">\n",
              "  <caption>profiling-summary:: total: 8.2566 msec (fallback: 0.0062 msec)</caption>\n",
              "  <thead>\n",
              "    <tr>\n",
              "      <th class=\"blank level0\" >&nbsp;</th>\n",
              "      <th id=\"T_4ea35_level0_col0\" class=\"col_heading level0 col0\" >name</th>\n",
              "      <th id=\"T_4ea35_level0_col1\" class=\"col_heading level0 col1\" >type</th>\n",
              "      <th id=\"T_4ea35_level0_col2\" class=\"col_heading level0 col2\" >n_calls</th>\n",
              "      <th id=\"T_4ea35_level0_col3\" class=\"col_heading level0 col3\" >duration (msec)</th>\n",
              "    </tr>\n",
              "  </thead>\n",
              "  <tbody>\n",
              "    <tr>\n",
              "      <th id=\"T_4ea35_level0_row0\" class=\"row_heading level0 row0\" >0</th>\n",
              "      <td id=\"T_4ea35_row0_col0\" class=\"data row0 col0\" >datetime_extract</td>\n",
              "      <td id=\"T_4ea35_row0_col1\" class=\"data row0 col1\" >kernel</td>\n",
              "      <td id=\"T_4ea35_row0_col2\" class=\"data row0 col2\" >3</td>\n",
              "      <td id=\"T_4ea35_row0_col3\" class=\"data row0 col3\" >3.389348</td>\n",
              "    </tr>\n",
              "    <tr>\n",
              "      <th id=\"T_4ea35_level0_row1\" class=\"row_heading level0 row1\" >1</th>\n",
              "      <td id=\"T_4ea35_row1_col0\" class=\"data row1 col0\" >to_datetime</td>\n",
              "      <td id=\"T_4ea35_row1_col1\" class=\"data row1 col1\" >kernel</td>\n",
              "      <td id=\"T_4ea35_row1_col2\" class=\"data row1 col2\" >1</td>\n",
              "      <td id=\"T_4ea35_row1_col3\" class=\"data row1 col3\" >3.123845</td>\n",
              "    </tr>\n",
              "    <tr>\n",
              "      <th id=\"T_4ea35_level0_row2\" class=\"row_heading level0 row2\" >2</th>\n",
              "      <td id=\"T_4ea35_row2_col0\" class=\"data row2 col0\" >groupby_select_agg</td>\n",
              "      <td id=\"T_4ea35_row2_col1\" class=\"data row2 col1\" >kernel</td>\n",
              "      <td id=\"T_4ea35_row2_col2\" class=\"data row2 col2\" >1</td>\n",
              "      <td id=\"T_4ea35_row2_col3\" class=\"data row2 col3\" >1.217144</td>\n",
              "    </tr>\n",
              "    <tr>\n",
              "      <th id=\"T_4ea35_level0_row3\" class=\"row_heading level0 row3\" >3</th>\n",
              "      <td id=\"T_4ea35_row3_col0\" class=\"data row3 col0\" >to_pandas.frame.metadata</td>\n",
              "      <td id=\"T_4ea35_row3_col1\" class=\"data row3 col1\" >kernel</td>\n",
              "      <td id=\"T_4ea35_row3_col2\" class=\"data row3 col2\" >1</td>\n",
              "      <td id=\"T_4ea35_row3_col3\" class=\"data row3 col3\" >0.369554</td>\n",
              "    </tr>\n",
              "    <tr>\n",
              "      <th id=\"T_4ea35_level0_row4\" class=\"row_heading level0 row4\" >4</th>\n",
              "      <td id=\"T_4ea35_row4_col0\" class=\"data row4 col0\" >from_pandas.frame.metadata</td>\n",
              "      <td id=\"T_4ea35_row4_col1\" class=\"data row4 col1\" >kernel</td>\n",
              "      <td id=\"T_4ea35_row4_col2\" class=\"data row4 col2\" >1</td>\n",
              "      <td id=\"T_4ea35_row4_col3\" class=\"data row4 col3\" >0.136971</td>\n",
              "    </tr>\n",
              "    <tr>\n",
              "      <th id=\"T_4ea35_level0_row5\" class=\"row_heading level0 row5\" >5</th>\n",
              "      <td id=\"T_4ea35_row5_col0\" class=\"data row5 col0\" >setitem</td>\n",
              "      <td id=\"T_4ea35_row5_col1\" class=\"data row5 col1\" >kernel</td>\n",
              "      <td id=\"T_4ea35_row5_col2\" class=\"data row5 col2\" >3</td>\n",
              "      <td id=\"T_4ea35_row5_col3\" class=\"data row5 col3\" >0.007070</td>\n",
              "    </tr>\n",
              "    <tr>\n",
              "      <th id=\"T_4ea35_level0_row6\" class=\"row_heading level0 row6\" >6</th>\n",
              "      <td id=\"T_4ea35_row6_col0\" class=\"data row6 col0\" >getattr:plot</td>\n",
              "      <td id=\"T_4ea35_row6_col1\" class=\"data row6 col1\" >fallback</td>\n",
              "      <td id=\"T_4ea35_row6_col2\" class=\"data row6 col2\" >1</td>\n",
              "      <td id=\"T_4ea35_row6_col3\" class=\"data row6 col3\" >0.006160</td>\n",
              "    </tr>\n",
              "  </tbody>\n",
              "</table>\n"
            ],
            "text/plain": [
              "<pandas.io.formats.style.Styler at 0x7fbb4c4f3f70>"
            ]
          },
          "metadata": {},
          "output_type": "display_data"
        }
      ],
      "source": [
        "%%fireducks.profile\n",
        "demo_cse(s, is_eager_mode = False)"
      ]
    },
    {
      "cell_type": "code",
      "execution_count": null,
      "id": "161888d8-7d51-410f-b3a9-02f55d23a791",
      "metadata": {
        "id": "161888d8-7d51-410f-b3a9-02f55d23a791",
        "outputId": "9e5b6c79-4b2e-4047-a232-0d1cfd95856b"
      },
      "outputs": [
        {
          "data": {
            "image/png": "[encoded data removed]",
            "text/plain": [
              "<Figure size 640x480 with 1 Axes>"
            ]
          },
          "metadata": {},
          "output_type": "display_data"
        },
        {
          "data": {
            "text/html": [
              "<style type=\"text/css\">\n",
              "#T_0770e caption {\n",
              "  text-align: center;\n",
              "  color: salmon;\n",
              "}\n",
              "</style>\n",
              "<table id=\"T_0770e\">\n",
              "  <caption>profiling-summary:: total: 13.4672 msec (fallback: 0.0071 msec)</caption>\n",
              "  <thead>\n",
              "    <tr>\n",
              "      <th class=\"blank level0\" >&nbsp;</th>\n",
              "      <th id=\"T_0770e_level0_col0\" class=\"col_heading level0 col0\" >name</th>\n",
              "      <th id=\"T_0770e_level0_col1\" class=\"col_heading level0 col1\" >type</th>\n",
              "      <th id=\"T_0770e_level0_col2\" class=\"col_heading level0 col2\" >n_calls</th>\n",
              "      <th id=\"T_0770e_level0_col3\" class=\"col_heading level0 col3\" >duration (msec)</th>\n",
              "    </tr>\n",
              "  </thead>\n",
              "  <tbody>\n",
              "    <tr>\n",
              "      <th id=\"T_0770e_level0_row0\" class=\"row_heading level0 row0\" >0</th>\n",
              "      <td id=\"T_0770e_row0_col0\" class=\"data row0 col0\" >to_datetime</td>\n",
              "      <td id=\"T_0770e_row0_col1\" class=\"data row0 col1\" >kernel</td>\n",
              "      <td id=\"T_0770e_row0_col2\" class=\"data row0 col2\" >3</td>\n",
              "      <td id=\"T_0770e_row0_col3\" class=\"data row0 col3\" >7.066189</td>\n",
              "    </tr>\n",
              "    <tr>\n",
              "      <th id=\"T_0770e_level0_row1\" class=\"row_heading level0 row1\" >1</th>\n",
              "      <td id=\"T_0770e_row1_col0\" class=\"data row1 col0\" >datetime_extract</td>\n",
              "      <td id=\"T_0770e_row1_col1\" class=\"data row1 col1\" >kernel</td>\n",
              "      <td id=\"T_0770e_row1_col2\" class=\"data row1 col2\" >3</td>\n",
              "      <td id=\"T_0770e_row1_col3\" class=\"data row1 col3\" >4.024145</td>\n",
              "    </tr>\n",
              "    <tr>\n",
              "      <th id=\"T_0770e_level0_row2\" class=\"row_heading level0 row2\" >2</th>\n",
              "      <td id=\"T_0770e_row2_col0\" class=\"data row2 col0\" >groupby_select_agg</td>\n",
              "      <td id=\"T_0770e_row2_col1\" class=\"data row2 col1\" >kernel</td>\n",
              "      <td id=\"T_0770e_row2_col2\" class=\"data row2 col2\" >1</td>\n",
              "      <td id=\"T_0770e_row2_col3\" class=\"data row2 col3\" >1.412016</td>\n",
              "    </tr>\n",
              "    <tr>\n",
              "      <th id=\"T_0770e_level0_row3\" class=\"row_heading level0 row3\" >3</th>\n",
              "      <td id=\"T_0770e_row3_col0\" class=\"data row3 col0\" >to_pandas.frame.metadata</td>\n",
              "      <td id=\"T_0770e_row3_col1\" class=\"data row3 col1\" >kernel</td>\n",
              "      <td id=\"T_0770e_row3_col2\" class=\"data row3 col2\" >1</td>\n",
              "      <td id=\"T_0770e_row3_col3\" class=\"data row3 col3\" >0.689508</td>\n",
              "    </tr>\n",
              "    <tr>\n",
              "      <th id=\"T_0770e_level0_row4\" class=\"row_heading level0 row4\" >4</th>\n",
              "      <td id=\"T_0770e_row4_col0\" class=\"data row4 col0\" >from_pandas.frame.metadata</td>\n",
              "      <td id=\"T_0770e_row4_col1\" class=\"data row4 col1\" >kernel</td>\n",
              "      <td id=\"T_0770e_row4_col2\" class=\"data row4 col2\" >1</td>\n",
              "      <td id=\"T_0770e_row4_col3\" class=\"data row4 col3\" >0.248653</td>\n",
              "    </tr>\n",
              "    <tr>\n",
              "      <th id=\"T_0770e_level0_row5\" class=\"row_heading level0 row5\" >5</th>\n",
              "      <td id=\"T_0770e_row5_col0\" class=\"data row5 col0\" >setitem</td>\n",
              "      <td id=\"T_0770e_row5_col1\" class=\"data row5 col1\" >kernel</td>\n",
              "      <td id=\"T_0770e_row5_col2\" class=\"data row5 col2\" >3</td>\n",
              "      <td id=\"T_0770e_row5_col3\" class=\"data row5 col3\" >0.009400</td>\n",
              "    </tr>\n",
              "    <tr>\n",
              "      <th id=\"T_0770e_level0_row6\" class=\"row_heading level0 row6\" >6</th>\n",
              "      <td id=\"T_0770e_row6_col0\" class=\"data row6 col0\" >getattr:plot</td>\n",
              "      <td id=\"T_0770e_row6_col1\" class=\"data row6 col1\" >fallback</td>\n",
              "      <td id=\"T_0770e_row6_col2\" class=\"data row6 col2\" >1</td>\n",
              "      <td id=\"T_0770e_row6_col3\" class=\"data row6 col3\" >0.007130</td>\n",
              "    </tr>\n",
              "  </tbody>\n",
              "</table>\n"
            ],
            "text/plain": [
              "<pandas.io.formats.style.Styler at 0x7fbb4c1720e0>"
            ]
          },
          "metadata": {},
          "output_type": "display_data"
        }
      ],
      "source": [
        "%%fireducks.profile\n",
        "demo_cse(s, is_eager_mode = True)"
      ]
    },
    {
      "cell_type": "markdown",
      "id": "1f06632f-7ae0-4fa5-b350-e29cb3c3bacb",
      "metadata": {
        "id": "1f06632f-7ae0-4fa5-b350-e29cb3c3bacb"
      },
      "source": [
        "### 2. Dead Code Elimination"
      ]
    },
    {
      "cell_type": "code",
      "execution_count": null,
      "id": "688c23db-ae86-4eda-90d2-393eecfce4ee",
      "metadata": {
        "id": "688c23db-ae86-4eda-90d2-393eecfce4ee",
        "outputId": "a8c29d2c-a8d1-4b35-a93f-b64ab43830e7"
      },
      "outputs": [
        {
          "data": {
            "text/html": [
              "<div>\n",
              "<style scoped>\n",
              "    .dataframe tbody tr th:only-of-type {\n",
              "        vertical-align: middle;\n",
              "    }\n",
              "\n",
              "    .dataframe tbody tr th {\n",
              "        vertical-align: top;\n",
              "    }\n",
              "\n",
              "    .dataframe thead th {\n",
              "        text-align: right;\n",
              "    }\n",
              "</style>\n",
              "<table border=\"1\" class=\"dataframe\">\n",
              "  <thead>\n",
              "    <tr style=\"text-align: right;\">\n",
              "      <th></th>\n",
              "      <th>a</th>\n",
              "      <th>b</th>\n",
              "    </tr>\n",
              "  </thead>\n",
              "  <tbody>\n",
              "    <tr>\n",
              "      <th>0</th>\n",
              "      <td>1</td>\n",
              "      <td>10</td>\n",
              "    </tr>\n",
              "    <tr>\n",
              "      <th>1</th>\n",
              "      <td>2</td>\n",
              "      <td>11</td>\n",
              "    </tr>\n",
              "    <tr>\n",
              "      <th>2</th>\n",
              "      <td>3</td>\n",
              "      <td>12</td>\n",
              "    </tr>\n",
              "    <tr>\n",
              "      <th>3</th>\n",
              "      <td>4</td>\n",
              "      <td>13</td>\n",
              "    </tr>\n",
              "  </tbody>\n",
              "</table>\n",
              "</div>"
            ]
          },
          "metadata": {},
          "output_type": "display_data"
        }
      ],
      "source": [
        "df1 = pd.DataFrame({\"a\": [1, 2, 3, 4], \"b\": [10, 11, 12, 13]})\n",
        "df1"
      ]
    },
    {
      "cell_type": "code",
      "execution_count": null,
      "id": "bf0ee8b2-45a8-48c6-abd9-300495f8186a",
      "metadata": {
        "id": "bf0ee8b2-45a8-48c6-abd9-300495f8186a",
        "outputId": "aeaff509-dc8e-480d-e7df-7dcb2eac7ca0"
      },
      "outputs": [
        {
          "data": {
            "text/html": [
              "<div>\n",
              "<style scoped>\n",
              "    .dataframe tbody tr th:only-of-type {\n",
              "        vertical-align: middle;\n",
              "    }\n",
              "\n",
              "    .dataframe tbody tr th {\n",
              "        vertical-align: top;\n",
              "    }\n",
              "\n",
              "    .dataframe thead th {\n",
              "        text-align: right;\n",
              "    }\n",
              "</style>\n",
              "<table border=\"1\" class=\"dataframe\">\n",
              "  <thead>\n",
              "    <tr style=\"text-align: right;\">\n",
              "      <th></th>\n",
              "      <th>a</th>\n",
              "      <th>c</th>\n",
              "      <th>d</th>\n",
              "    </tr>\n",
              "  </thead>\n",
              "  <tbody>\n",
              "    <tr>\n",
              "      <th>0</th>\n",
              "      <td>4</td>\n",
              "      <td>0</td>\n",
              "      <td>40</td>\n",
              "    </tr>\n",
              "    <tr>\n",
              "      <th>1</th>\n",
              "      <td>1</td>\n",
              "      <td>1</td>\n",
              "      <td>10</td>\n",
              "    </tr>\n",
              "    <tr>\n",
              "      <th>2</th>\n",
              "      <td>3</td>\n",
              "      <td>0</td>\n",
              "      <td>30</td>\n",
              "    </tr>\n",
              "  </tbody>\n",
              "</table>\n",
              "</div>"
            ]
          },
          "metadata": {},
          "output_type": "display_data"
        }
      ],
      "source": [
        "df2 = pd.DataFrame({\"a\": [4, 1, 3], \"c\": [0, 1, 0], \"d\": [40, 10, 30]})\n",
        "df2"
      ]
    },
    {
      "cell_type": "code",
      "execution_count": null,
      "id": "922e2723-1363-4e67-8771-a8ad0cbef4a5",
      "metadata": {
        "id": "922e2723-1363-4e67-8771-a8ad0cbef4a5"
      },
      "outputs": [],
      "source": [
        "def demo_dce(df1, df2, is_eager_mode = False):\n",
        "    from fireducks.core import get_fireducks_options\n",
        "    get_fireducks_options().set_benchmark_mode(is_eager_mode)\n",
        "\n",
        "    merged_df = df1.merge(df2, on=\"a\")\n",
        "    sorted_df = merged_df.sort_values(by=\"a\")\n",
        "    #print(sorted_df)\n",
        "    return merged_df.groupby(\"c\")[\"d\"].sum()"
      ]
    },
    {
      "cell_type": "code",
      "execution_count": null,
      "id": "bebeb60f-3a48-4ec2-a5f3-17a9a93cc0eb",
      "metadata": {
        "id": "bebeb60f-3a48-4ec2-a5f3-17a9a93cc0eb",
        "outputId": "f8b42b10-cd64-4b71-85be-a32ad7a87a41"
      },
      "outputs": [
        {
          "data": {
            "text/plain": [
              "c\n",
              "0    70\n",
              "1    10\n",
              "Name: d, dtype: int64"
            ]
          },
          "execution_count": 9,
          "metadata": {},
          "output_type": "execute_result"
        },
        {
          "data": {
            "text/html": [
              "<style type=\"text/css\">\n",
              "#T_383dc caption {\n",
              "  text-align: center;\n",
              "  color: salmon;\n",
              "}\n",
              "</style>\n",
              "<table id=\"T_383dc\">\n",
              "  <caption>profiling-summary:: total: 2.3848 msec (fallback: 0.1763 msec)</caption>\n",
              "  <thead>\n",
              "    <tr>\n",
              "      <th class=\"blank level0\" >&nbsp;</th>\n",
              "      <th id=\"T_383dc_level0_col0\" class=\"col_heading level0 col0\" >name</th>\n",
              "      <th id=\"T_383dc_level0_col1\" class=\"col_heading level0 col1\" >type</th>\n",
              "      <th id=\"T_383dc_level0_col2\" class=\"col_heading level0 col2\" >n_calls</th>\n",
              "      <th id=\"T_383dc_level0_col3\" class=\"col_heading level0 col3\" >duration (msec)</th>\n",
              "    </tr>\n",
              "  </thead>\n",
              "  <tbody>\n",
              "    <tr>\n",
              "      <th id=\"T_383dc_level0_row0\" class=\"row_heading level0 row0\" >0</th>\n",
              "      <td id=\"T_383dc_row0_col0\" class=\"data row0 col0\" >join</td>\n",
              "      <td id=\"T_383dc_row0_col1\" class=\"data row0 col1\" >kernel</td>\n",
              "      <td id=\"T_383dc_row0_col2\" class=\"data row0 col2\" >1</td>\n",
              "      <td id=\"T_383dc_row0_col3\" class=\"data row0 col3\" >1.721599</td>\n",
              "    </tr>\n",
              "    <tr>\n",
              "      <th id=\"T_383dc_level0_row1\" class=\"row_heading level0 row1\" >1</th>\n",
              "      <td id=\"T_383dc_row1_col0\" class=\"data row1 col0\" >to_pandas.frame.metadata</td>\n",
              "      <td id=\"T_383dc_row1_col1\" class=\"data row1 col1\" >kernel</td>\n",
              "      <td id=\"T_383dc_row1_col2\" class=\"data row1 col2\" >1</td>\n",
              "      <td id=\"T_383dc_row1_col3\" class=\"data row1 col3\" >0.392294</td>\n",
              "    </tr>\n",
              "    <tr>\n",
              "      <th id=\"T_383dc_level0_row2\" class=\"row_heading level0 row2\" >2</th>\n",
              "      <td id=\"T_383dc_row2_col0\" class=\"data row2 col0\" >Series.__repr__</td>\n",
              "      <td id=\"T_383dc_row2_col1\" class=\"data row2 col1\" >fallback</td>\n",
              "      <td id=\"T_383dc_row2_col2\" class=\"data row2 col2\" >1</td>\n",
              "      <td id=\"T_383dc_row2_col3\" class=\"data row2 col3\" >0.172962</td>\n",
              "    </tr>\n",
              "    <tr>\n",
              "      <th id=\"T_383dc_level0_row3\" class=\"row_heading level0 row3\" >3</th>\n",
              "      <td id=\"T_383dc_row3_col0\" class=\"data row3 col0\" >groupby_select_agg</td>\n",
              "      <td id=\"T_383dc_row3_col1\" class=\"data row3 col1\" >kernel</td>\n",
              "      <td id=\"T_383dc_row3_col2\" class=\"data row3 col2\" >1</td>\n",
              "      <td id=\"T_383dc_row3_col3\" class=\"data row3 col3\" >0.089661</td>\n",
              "    </tr>\n",
              "    <tr>\n",
              "      <th id=\"T_383dc_level0_row4\" class=\"row_heading level0 row4\" >4</th>\n",
              "      <td id=\"T_383dc_row4_col0\" class=\"data row4 col0\" >getattr:__repr__</td>\n",
              "      <td id=\"T_383dc_row4_col1\" class=\"data row4 col1\" >fallback</td>\n",
              "      <td id=\"T_383dc_row4_col2\" class=\"data row4 col2\" >1</td>\n",
              "      <td id=\"T_383dc_row4_col3\" class=\"data row4 col3\" >0.003370</td>\n",
              "    </tr>\n",
              "    <tr>\n",
              "      <th id=\"T_383dc_level0_row5\" class=\"row_heading level0 row5\" >5</th>\n",
              "      <td id=\"T_383dc_row5_col0\" class=\"data row5 col0\" >get_shape</td>\n",
              "      <td id=\"T_383dc_row5_col1\" class=\"data row5 col1\" >kernel</td>\n",
              "      <td id=\"T_383dc_row5_col2\" class=\"data row5 col2\" >1</td>\n",
              "      <td id=\"T_383dc_row5_col3\" class=\"data row5 col3\" >0.000890</td>\n",
              "    </tr>\n",
              "  </tbody>\n",
              "</table>\n"
            ],
            "text/plain": [
              "<pandas.io.formats.style.Styler at 0x7fbb4c15aec0>"
            ]
          },
          "metadata": {},
          "output_type": "display_data"
        }
      ],
      "source": [
        "%%fireducks.profile\n",
        "demo_dce(df1, df2, is_eager_mode = False)"
      ]
    },
    {
      "cell_type": "code",
      "execution_count": null,
      "id": "4cdba6b6-d49e-4051-9c2c-e4f5dbe7dbb9",
      "metadata": {
        "id": "4cdba6b6-d49e-4051-9c2c-e4f5dbe7dbb9",
        "outputId": "7405f5b7-aa10-471d-e030-290ca91f7838"
      },
      "outputs": [
        {
          "data": {
            "text/plain": [
              "c\n",
              "0    70\n",
              "1    10\n",
              "Name: d, dtype: int64"
            ]
          },
          "execution_count": 10,
          "metadata": {},
          "output_type": "execute_result"
        },
        {
          "data": {
            "text/html": [
              "<style type=\"text/css\">\n",
              "#T_4a2cc caption {\n",
              "  text-align: center;\n",
              "  color: salmon;\n",
              "}\n",
              "</style>\n",
              "<table id=\"T_4a2cc\">\n",
              "  <caption>profiling-summary:: total: 4.4402 msec (fallback: 0.1437 msec)</caption>\n",
              "  <thead>\n",
              "    <tr>\n",
              "      <th class=\"blank level0\" >&nbsp;</th>\n",
              "      <th id=\"T_4a2cc_level0_col0\" class=\"col_heading level0 col0\" >name</th>\n",
              "      <th id=\"T_4a2cc_level0_col1\" class=\"col_heading level0 col1\" >type</th>\n",
              "      <th id=\"T_4a2cc_level0_col2\" class=\"col_heading level0 col2\" >n_calls</th>\n",
              "      <th id=\"T_4a2cc_level0_col3\" class=\"col_heading level0 col3\" >duration (msec)</th>\n",
              "    </tr>\n",
              "  </thead>\n",
              "  <tbody>\n",
              "    <tr>\n",
              "      <th id=\"T_4a2cc_level0_row0\" class=\"row_heading level0 row0\" >0</th>\n",
              "      <td id=\"T_4a2cc_row0_col0\" class=\"data row0 col0\" >sort_values</td>\n",
              "      <td id=\"T_4a2cc_row0_col1\" class=\"data row0 col1\" >kernel</td>\n",
              "      <td id=\"T_4a2cc_row0_col2\" class=\"data row0 col2\" >1</td>\n",
              "      <td id=\"T_4a2cc_row0_col3\" class=\"data row0 col3\" >2.129054</td>\n",
              "    </tr>\n",
              "    <tr>\n",
              "      <th id=\"T_4a2cc_level0_row1\" class=\"row_heading level0 row1\" >1</th>\n",
              "      <td id=\"T_4a2cc_row1_col0\" class=\"data row1 col0\" >join</td>\n",
              "      <td id=\"T_4a2cc_row1_col1\" class=\"data row1 col1\" >kernel</td>\n",
              "      <td id=\"T_4a2cc_row1_col2\" class=\"data row1 col2\" >1</td>\n",
              "      <td id=\"T_4a2cc_row1_col3\" class=\"data row1 col3\" >1.563498</td>\n",
              "    </tr>\n",
              "    <tr>\n",
              "      <th id=\"T_4a2cc_level0_row2\" class=\"row_heading level0 row2\" >2</th>\n",
              "      <td id=\"T_4a2cc_row2_col0\" class=\"data row2 col0\" >to_pandas.frame.metadata</td>\n",
              "      <td id=\"T_4a2cc_row2_col1\" class=\"data row2 col1\" >kernel</td>\n",
              "      <td id=\"T_4a2cc_row2_col2\" class=\"data row2 col2\" >1</td>\n",
              "      <td id=\"T_4a2cc_row2_col3\" class=\"data row2 col3\" >0.501806</td>\n",
              "    </tr>\n",
              "    <tr>\n",
              "      <th id=\"T_4a2cc_level0_row3\" class=\"row_heading level0 row3\" >3</th>\n",
              "      <td id=\"T_4a2cc_row3_col0\" class=\"data row3 col0\" >Series.__repr__</td>\n",
              "      <td id=\"T_4a2cc_row3_col1\" class=\"data row3 col1\" >fallback</td>\n",
              "      <td id=\"T_4a2cc_row3_col2\" class=\"data row3 col2\" >1</td>\n",
              "      <td id=\"T_4a2cc_row3_col3\" class=\"data row3 col3\" >0.140652</td>\n",
              "    </tr>\n",
              "    <tr>\n",
              "      <th id=\"T_4a2cc_level0_row4\" class=\"row_heading level0 row4\" >4</th>\n",
              "      <td id=\"T_4a2cc_row4_col0\" class=\"data row4 col0\" >groupby_select_agg</td>\n",
              "      <td id=\"T_4a2cc_row4_col1\" class=\"data row4 col1\" >kernel</td>\n",
              "      <td id=\"T_4a2cc_row4_col2\" class=\"data row4 col2\" >1</td>\n",
              "      <td id=\"T_4a2cc_row4_col3\" class=\"data row4 col3\" >0.096081</td>\n",
              "    </tr>\n",
              "    <tr>\n",
              "      <th id=\"T_4a2cc_level0_row5\" class=\"row_heading level0 row5\" >5</th>\n",
              "      <td id=\"T_4a2cc_row5_col0\" class=\"data row5 col0\" >getattr:__repr__</td>\n",
              "      <td id=\"T_4a2cc_row5_col1\" class=\"data row5 col1\" >fallback</td>\n",
              "      <td id=\"T_4a2cc_row5_col2\" class=\"data row5 col2\" >1</td>\n",
              "      <td id=\"T_4a2cc_row5_col3\" class=\"data row5 col3\" >0.003040</td>\n",
              "    </tr>\n",
              "    <tr>\n",
              "      <th id=\"T_4a2cc_level0_row6\" class=\"row_heading level0 row6\" >6</th>\n",
              "      <td id=\"T_4a2cc_row6_col0\" class=\"data row6 col0\" >get_shape</td>\n",
              "      <td id=\"T_4a2cc_row6_col1\" class=\"data row6 col1\" >kernel</td>\n",
              "      <td id=\"T_4a2cc_row6_col2\" class=\"data row6 col2\" >1</td>\n",
              "      <td id=\"T_4a2cc_row6_col3\" class=\"data row6 col3\" >0.000320</td>\n",
              "    </tr>\n",
              "  </tbody>\n",
              "</table>\n"
            ],
            "text/plain": [
              "<pandas.io.formats.style.Styler at 0x7fbb4c159720>"
            ]
          },
          "metadata": {},
          "output_type": "display_data"
        }
      ],
      "source": [
        "%%fireducks.profile\n",
        "demo_dce(df1, df2, is_eager_mode = True)"
      ]
    },
    {
      "cell_type": "markdown",
      "id": "a3ff8fc9-ba09-42b0-9fda-ec47d4e1c3db",
      "metadata": {
        "id": "a3ff8fc9-ba09-42b0-9fda-ec47d4e1c3db"
      },
      "source": [
        "### 3. IO optimization"
      ]
    },
    {
      "cell_type": "code",
      "execution_count": null,
      "id": "12d7a834-2fb0-40da-b911-7cf46f948abd",
      "metadata": {
        "id": "12d7a834-2fb0-40da-b911-7cf46f948abd",
        "outputId": "b5abc5c1-8864-4292-c99e-95a5b08693a7"
      },
      "outputs": [
        {
          "name": "stdout",
          "output_type": "stream",
          "text": [
            "--2025-01-08 13:44:20--  https://data.rapids.ai/datasets/nyc_parking/nyc_parking_violations_2022.parquet\n",
            "proxygate1.nic.nec.co.jp (proxygate1.nic.nec.co.jp) をDNSに問いあわせています... 10.51.8.101, 10.51.8.102\n",
            "proxygate1.nic.nec.co.jp (proxygate1.nic.nec.co.jp)|10.51.8.101|:8080 に接続しています... 接続しました。\n",
            "Proxy による接続要求を送信しました、応答を待っています... 200 OK\n",
            "長さ: 474211285 (452M) [binary/octet-stream]\n",
            "‘nyc_parking_violations_2022.parquet.8’ に保存中\n",
            "\n",
            "nyc_parking_violati 100%[===================>] 452.24M  20.1MB/s    in 27s     \n",
            "\n",
            "2025-01-08 13:44:49 (16.5 MB/s) - ‘nyc_parking_violations_2022.parquet.8’ へ保存完了 [474211285/474211285]\n",
            "\n"
          ]
        }
      ],
      "source": [
        "!wget https://data.rapids.ai/datasets/nyc_parking/nyc_parking_violations_2022.parquet"
      ]
    },
    {
      "cell_type": "code",
      "execution_count": null,
      "id": "c326ae23-731d-40ec-87f7-537af9c4c578",
      "metadata": {
        "id": "c326ae23-731d-40ec-87f7-537af9c4c578"
      },
      "outputs": [],
      "source": [
        "def io_opt(is_eager_mode = False):\n",
        "    from fireducks.core import get_fireducks_options\n",
        "    get_fireducks_options().set_benchmark_mode(is_eager_mode)\n",
        "\n",
        "    (\n",
        "        pd.read_parquet(\"nyc_parking_violations_2022.parquet\")\n",
        "          .groupby(\"Vehicle Body Type\")\n",
        "          .agg(Count=(\"Summons Number\", \"count\"))\n",
        "          .sort_values(by=\"Count\", ascending=False)\n",
        "          .head(10)\n",
        "          .plot(kind=\"bar\")\n",
        "    )"
      ]
    },
    {
      "cell_type": "code",
      "execution_count": null,
      "id": "7e632cab-3023-4088-9e8f-05aa32e92616",
      "metadata": {
        "id": "7e632cab-3023-4088-9e8f-05aa32e92616",
        "outputId": "1da4226a-0d89-4a03-83f5-8a67bf9e1a9f"
      },
      "outputs": [
        {
          "data": {
            "image/png": "[encoded data removed]",
            "text/plain": [
              "<Figure size 640x480 with 1 Axes>"
            ]
          },
          "metadata": {},
          "output_type": "display_data"
        },
        {
          "data": {
            "text/html": [
              "<style type=\"text/css\">\n",
              "#T_ae235 caption {\n",
              "  text-align: center;\n",
              "  color: salmon;\n",
              "}\n",
              "</style>\n",
              "<table id=\"T_ae235\">\n",
              "  <caption>profiling-summary:: total: 354.497 msec (fallback: 0.0362 msec)</caption>\n",
              "  <thead>\n",
              "    <tr>\n",
              "      <th class=\"blank level0\" >&nbsp;</th>\n",
              "      <th id=\"T_ae235_level0_col0\" class=\"col_heading level0 col0\" >name</th>\n",
              "      <th id=\"T_ae235_level0_col1\" class=\"col_heading level0 col1\" >type</th>\n",
              "      <th id=\"T_ae235_level0_col2\" class=\"col_heading level0 col2\" >n_calls</th>\n",
              "      <th id=\"T_ae235_level0_col3\" class=\"col_heading level0 col3\" >duration (msec)</th>\n",
              "    </tr>\n",
              "  </thead>\n",
              "  <tbody>\n",
              "    <tr>\n",
              "      <th id=\"T_ae235_level0_row0\" class=\"row_heading level0 row0\" >0</th>\n",
              "      <td id=\"T_ae235_row0_col0\" class=\"data row0 col0\" >read_parquet_with_metadata</td>\n",
              "      <td id=\"T_ae235_row0_col1\" class=\"data row0 col1\" >kernel</td>\n",
              "      <td id=\"T_ae235_row0_col2\" class=\"data row0 col2\" >1</td>\n",
              "      <td id=\"T_ae235_row0_col3\" class=\"data row0 col3\" >323.419460</td>\n",
              "    </tr>\n",
              "    <tr>\n",
              "      <th id=\"T_ae235_level0_row1\" class=\"row_heading level0 row1\" >1</th>\n",
              "      <td id=\"T_ae235_row1_col0\" class=\"data row1 col0\" >groupby_agg</td>\n",
              "      <td id=\"T_ae235_row1_col1\" class=\"data row1 col1\" >kernel</td>\n",
              "      <td id=\"T_ae235_row1_col2\" class=\"data row1 col2\" >1</td>\n",
              "      <td id=\"T_ae235_row1_col3\" class=\"data row1 col3\" >19.939603</td>\n",
              "    </tr>\n",
              "    <tr>\n",
              "      <th id=\"T_ae235_level0_row2\" class=\"row_heading level0 row2\" >2</th>\n",
              "      <td id=\"T_ae235_row2_col0\" class=\"data row2 col0\" >sort_values</td>\n",
              "      <td id=\"T_ae235_row2_col1\" class=\"data row2 col1\" >kernel</td>\n",
              "      <td id=\"T_ae235_row2_col2\" class=\"data row2 col2\" >1</td>\n",
              "      <td id=\"T_ae235_row2_col3\" class=\"data row2 col3\" >5.934596</td>\n",
              "    </tr>\n",
              "    <tr>\n",
              "      <th id=\"T_ae235_level0_row3\" class=\"row_heading level0 row3\" >3</th>\n",
              "      <td id=\"T_ae235_row3_col0\" class=\"data row3 col0\" >read_parquet_metadata</td>\n",
              "      <td id=\"T_ae235_row3_col1\" class=\"data row3 col1\" >kernel</td>\n",
              "      <td id=\"T_ae235_row3_col2\" class=\"data row3 col2\" >1</td>\n",
              "      <td id=\"T_ae235_row3_col3\" class=\"data row3 col3\" >3.569719</td>\n",
              "    </tr>\n",
              "    <tr>\n",
              "      <th id=\"T_ae235_level0_row4\" class=\"row_heading level0 row4\" >4</th>\n",
              "      <td id=\"T_ae235_row4_col0\" class=\"data row4 col0\" >to_pandas.frame.metadata</td>\n",
              "      <td id=\"T_ae235_row4_col1\" class=\"data row4 col1\" >kernel</td>\n",
              "      <td id=\"T_ae235_row4_col2\" class=\"data row4 col2\" >1</td>\n",
              "      <td id=\"T_ae235_row4_col3\" class=\"data row4 col3\" >1.573358</td>\n",
              "    </tr>\n",
              "    <tr>\n",
              "      <th id=\"T_ae235_level0_row5\" class=\"row_heading level0 row5\" >5</th>\n",
              "      <td id=\"T_ae235_row5_col0\" class=\"data row5 col0\" >getattr:plot</td>\n",
              "      <td id=\"T_ae235_row5_col1\" class=\"data row5 col1\" >fallback</td>\n",
              "      <td id=\"T_ae235_row5_col2\" class=\"data row5 col2\" >1</td>\n",
              "      <td id=\"T_ae235_row5_col3\" class=\"data row5 col3\" >0.036241</td>\n",
              "    </tr>\n",
              "    <tr>\n",
              "      <th id=\"T_ae235_level0_row6\" class=\"row_heading level0 row6\" >6</th>\n",
              "      <td id=\"T_ae235_row6_col0\" class=\"data row6 col0\" >slice</td>\n",
              "      <td id=\"T_ae235_row6_col1\" class=\"data row6 col1\" >kernel</td>\n",
              "      <td id=\"T_ae235_row6_col2\" class=\"data row6 col2\" >1</td>\n",
              "      <td id=\"T_ae235_row6_col3\" class=\"data row6 col3\" >0.012800</td>\n",
              "    </tr>\n",
              "  </tbody>\n",
              "</table>\n"
            ],
            "text/plain": [
              "<pandas.io.formats.style.Styler at 0x7fbc48919420>"
            ]
          },
          "metadata": {},
          "output_type": "display_data"
        }
      ],
      "source": [
        "%%fireducks.profile\n",
        "io_opt(is_eager_mode = False)"
      ]
    },
    {
      "cell_type": "code",
      "execution_count": null,
      "id": "5dbb3782-fb67-4d41-bc15-f36ad926eb32",
      "metadata": {
        "id": "5dbb3782-fb67-4d41-bc15-f36ad926eb32",
        "outputId": "cc0af05b-bd63-4e2e-a053-a6096f426b9d"
      },
      "outputs": [
        {
          "data": {
            "image/png": "[encoded data removed]",
            "text/plain": [
              "<Figure size 640x480 with 1 Axes>"
            ]
          },
          "metadata": {},
          "output_type": "display_data"
        },
        {
          "data": {
            "text/html": [
              "<style type=\"text/css\">\n",
              "#T_2b542 caption {\n",
              "  text-align: center;\n",
              "  color: salmon;\n",
              "}\n",
              "</style>\n",
              "<table id=\"T_2b542\">\n",
              "  <caption>profiling-summary:: total: 973.2484 msec (fallback: 0.0158 msec)</caption>\n",
              "  <thead>\n",
              "    <tr>\n",
              "      <th class=\"blank level0\" >&nbsp;</th>\n",
              "      <th id=\"T_2b542_level0_col0\" class=\"col_heading level0 col0\" >name</th>\n",
              "      <th id=\"T_2b542_level0_col1\" class=\"col_heading level0 col1\" >type</th>\n",
              "      <th id=\"T_2b542_level0_col2\" class=\"col_heading level0 col2\" >n_calls</th>\n",
              "      <th id=\"T_2b542_level0_col3\" class=\"col_heading level0 col3\" >duration (msec)</th>\n",
              "    </tr>\n",
              "  </thead>\n",
              "  <tbody>\n",
              "    <tr>\n",
              "      <th id=\"T_2b542_level0_row0\" class=\"row_heading level0 row0\" >0</th>\n",
              "      <td id=\"T_2b542_row0_col0\" class=\"data row0 col0\" >read_parquet_with_metadata</td>\n",
              "      <td id=\"T_2b542_row0_col1\" class=\"data row0 col1\" >kernel</td>\n",
              "      <td id=\"T_2b542_row0_col2\" class=\"data row0 col2\" >1</td>\n",
              "      <td id=\"T_2b542_row0_col3\" class=\"data row0 col3\" >953.225877</td>\n",
              "    </tr>\n",
              "    <tr>\n",
              "      <th id=\"T_2b542_level0_row1\" class=\"row_heading level0 row1\" >1</th>\n",
              "      <td id=\"T_2b542_row1_col0\" class=\"data row1 col0\" >groupby_agg</td>\n",
              "      <td id=\"T_2b542_row1_col1\" class=\"data row1 col1\" >kernel</td>\n",
              "      <td id=\"T_2b542_row1_col2\" class=\"data row1 col2\" >1</td>\n",
              "      <td id=\"T_2b542_row1_col3\" class=\"data row1 col3\" >13.031106</td>\n",
              "    </tr>\n",
              "    <tr>\n",
              "      <th id=\"T_2b542_level0_row2\" class=\"row_heading level0 row2\" >2</th>\n",
              "      <td id=\"T_2b542_row2_col0\" class=\"data row2 col0\" >sort_values</td>\n",
              "      <td id=\"T_2b542_row2_col1\" class=\"data row2 col1\" >kernel</td>\n",
              "      <td id=\"T_2b542_row2_col2\" class=\"data row2 col2\" >1</td>\n",
              "      <td id=\"T_2b542_row2_col3\" class=\"data row2 col3\" >4.773773</td>\n",
              "    </tr>\n",
              "    <tr>\n",
              "      <th id=\"T_2b542_level0_row3\" class=\"row_heading level0 row3\" >3</th>\n",
              "      <td id=\"T_2b542_row3_col0\" class=\"data row3 col0\" >read_parquet_metadata</td>\n",
              "      <td id=\"T_2b542_row3_col1\" class=\"data row3 col1\" >kernel</td>\n",
              "      <td id=\"T_2b542_row3_col2\" class=\"data row3 col2\" >1</td>\n",
              "      <td id=\"T_2b542_row3_col3\" class=\"data row3 col3\" >1.306474</td>\n",
              "    </tr>\n",
              "    <tr>\n",
              "      <th id=\"T_2b542_level0_row4\" class=\"row_heading level0 row4\" >4</th>\n",
              "      <td id=\"T_2b542_row4_col0\" class=\"data row4 col0\" >to_pandas.frame.metadata</td>\n",
              "      <td id=\"T_2b542_row4_col1\" class=\"data row4 col1\" >kernel</td>\n",
              "      <td id=\"T_2b542_row4_col2\" class=\"data row4 col2\" >1</td>\n",
              "      <td id=\"T_2b542_row4_col3\" class=\"data row4 col3\" >0.858830</td>\n",
              "    </tr>\n",
              "    <tr>\n",
              "      <th id=\"T_2b542_level0_row5\" class=\"row_heading level0 row5\" >5</th>\n",
              "      <td id=\"T_2b542_row5_col0\" class=\"data row5 col0\" >getattr:plot</td>\n",
              "      <td id=\"T_2b542_row5_col1\" class=\"data row5 col1\" >fallback</td>\n",
              "      <td id=\"T_2b542_row5_col2\" class=\"data row5 col2\" >1</td>\n",
              "      <td id=\"T_2b542_row5_col3\" class=\"data row5 col3\" >0.015830</td>\n",
              "    </tr>\n",
              "    <tr>\n",
              "      <th id=\"T_2b542_level0_row6\" class=\"row_heading level0 row6\" >6</th>\n",
              "      <td id=\"T_2b542_row6_col0\" class=\"data row6 col0\" >project</td>\n",
              "      <td id=\"T_2b542_row6_col1\" class=\"data row6 col1\" >kernel</td>\n",
              "      <td id=\"T_2b542_row6_col2\" class=\"data row6 col2\" >1</td>\n",
              "      <td id=\"T_2b542_row6_col3\" class=\"data row6 col3\" >0.012550</td>\n",
              "    </tr>\n",
              "    <tr>\n",
              "      <th id=\"T_2b542_level0_row7\" class=\"row_heading level0 row7\" >7</th>\n",
              "      <td id=\"T_2b542_row7_col0\" class=\"data row7 col0\" >slice</td>\n",
              "      <td id=\"T_2b542_row7_col1\" class=\"data row7 col1\" >kernel</td>\n",
              "      <td id=\"T_2b542_row7_col2\" class=\"data row7 col2\" >1</td>\n",
              "      <td id=\"T_2b542_row7_col3\" class=\"data row7 col3\" >0.012410</td>\n",
              "    </tr>\n",
              "  </tbody>\n",
              "</table>\n"
            ],
            "text/plain": [
              "<pandas.io.formats.style.Styler at 0x7fbc48929c30>"
            ]
          },
          "metadata": {},
          "output_type": "display_data"
        }
      ],
      "source": [
        "%%fireducks.profile\n",
        "io_opt(is_eager_mode = True)"
      ]
    },
    {
      "cell_type": "markdown",
      "id": "88f22282-ff0b-49d0-9ce2-3e89ef7b0a37",
      "metadata": {
        "id": "88f22282-ff0b-49d0-9ce2-3e89ef7b0a37"
      },
      "source": [
        "### 4. Pushdown Projection"
      ]
    },
    {
      "cell_type": "code",
      "execution_count": null,
      "id": "8aabf7f1-ec3e-49a4-a22d-97a1a3644fcd",
      "metadata": {
        "id": "8aabf7f1-ec3e-49a4-a22d-97a1a3644fcd",
        "outputId": "fef2a243-6bbc-46c3-ab36-71ed24e9633b"
      },
      "outputs": [
        {
          "data": {
            "text/html": [
              "<div>\n",
              "<style scoped>\n",
              "    .dataframe tbody tr th:only-of-type {\n",
              "        vertical-align: middle;\n",
              "    }\n",
              "\n",
              "    .dataframe tbody tr th {\n",
              "        vertical-align: top;\n",
              "    }\n",
              "\n",
              "    .dataframe thead th {\n",
              "        text-align: right;\n",
              "    }\n",
              "</style>\n",
              "<table border=\"1\" class=\"dataframe\">\n",
              "  <thead>\n",
              "    <tr style=\"text-align: right;\">\n",
              "      <th></th>\n",
              "      <th>A</th>\n",
              "      <th>B</th>\n",
              "      <th>C</th>\n",
              "      <th>D</th>\n",
              "      <th>E</th>\n",
              "      <th>F</th>\n",
              "      <th>G</th>\n",
              "      <th>H</th>\n",
              "      <th>I</th>\n",
              "      <th>J</th>\n",
              "      <th>K</th>\n",
              "      <th>L</th>\n",
              "      <th>M</th>\n",
              "      <th>N</th>\n",
              "      <th>O</th>\n",
              "      <th>P</th>\n",
              "    </tr>\n",
              "  </thead>\n",
              "  <tbody>\n",
              "    <tr>\n",
              "      <th>0</th>\n",
              "      <td>2007</td>\n",
              "      <td>-0.072677</td>\n",
              "      <td>-1.596960</td>\n",
              "      <td>0.745587</td>\n",
              "      <td>1.508895</td>\n",
              "      <td>0.694224</td>\n",
              "      <td>-0.429874</td>\n",
              "      <td>-1.058868</td>\n",
              "      <td>-0.330583</td>\n",
              "      <td>-1.746814</td>\n",
              "      <td>0.051886</td>\n",
              "      <td>-0.355890</td>\n",
              "      <td>1.082854</td>\n",
              "      <td>0.446056</td>\n",
              "      <td>0.279910</td>\n",
              "      <td>0.360545</td>\n",
              "    </tr>\n",
              "    <tr>\n",
              "      <th>1</th>\n",
              "      <td>2009</td>\n",
              "      <td>0.626635</td>\n",
              "      <td>0.115284</td>\n",
              "      <td>2.622135</td>\n",
              "      <td>-0.355570</td>\n",
              "      <td>1.611203</td>\n",
              "      <td>0.065316</td>\n",
              "      <td>-0.402626</td>\n",
              "      <td>-1.742196</td>\n",
              "      <td>0.181408</td>\n",
              "      <td>-0.062681</td>\n",
              "      <td>0.228051</td>\n",
              "      <td>-0.523456</td>\n",
              "      <td>-0.266911</td>\n",
              "      <td>0.479098</td>\n",
              "      <td>0.579345</td>\n",
              "    </tr>\n",
              "    <tr>\n",
              "      <th>2</th>\n",
              "      <td>2001</td>\n",
              "      <td>-0.419023</td>\n",
              "      <td>-2.024544</td>\n",
              "      <td>-0.445462</td>\n",
              "      <td>-0.210488</td>\n",
              "      <td>-1.228251</td>\n",
              "      <td>-0.438826</td>\n",
              "      <td>0.914824</td>\n",
              "      <td>0.928477</td>\n",
              "      <td>-2.212586</td>\n",
              "      <td>0.240491</td>\n",
              "      <td>1.997828</td>\n",
              "      <td>1.372054</td>\n",
              "      <td>0.055943</td>\n",
              "      <td>-0.711808</td>\n",
              "      <td>1.048406</td>\n",
              "    </tr>\n",
              "    <tr>\n",
              "      <th>3</th>\n",
              "      <td>2008</td>\n",
              "      <td>-0.753279</td>\n",
              "      <td>-1.472693</td>\n",
              "      <td>0.444650</td>\n",
              "      <td>0.520123</td>\n",
              "      <td>-1.503761</td>\n",
              "      <td>-0.366025</td>\n",
              "      <td>-2.439646</td>\n",
              "      <td>-1.197867</td>\n",
              "      <td>-0.679259</td>\n",
              "      <td>0.500299</td>\n",
              "      <td>-0.009084</td>\n",
              "      <td>0.892733</td>\n",
              "      <td>-0.864724</td>\n",
              "      <td>0.399463</td>\n",
              "      <td>0.200197</td>\n",
              "    </tr>\n",
              "    <tr>\n",
              "      <th>4</th>\n",
              "      <td>2004</td>\n",
              "      <td>-0.106691</td>\n",
              "      <td>-0.111883</td>\n",
              "      <td>-1.270557</td>\n",
              "      <td>-0.101664</td>\n",
              "      <td>0.153593</td>\n",
              "      <td>-0.865585</td>\n",
              "      <td>0.276958</td>\n",
              "      <td>-0.879038</td>\n",
              "      <td>0.116102</td>\n",
              "      <td>-0.324998</td>\n",
              "      <td>1.225151</td>\n",
              "      <td>1.271126</td>\n",
              "      <td>0.579711</td>\n",
              "      <td>-0.589307</td>\n",
              "      <td>0.014252</td>\n",
              "    </tr>\n",
              "    <tr>\n",
              "      <th>...</th>\n",
              "      <td>...</td>\n",
              "      <td>...</td>\n",
              "      <td>...</td>\n",
              "      <td>...</td>\n",
              "      <td>...</td>\n",
              "      <td>...</td>\n",
              "      <td>...</td>\n",
              "      <td>...</td>\n",
              "      <td>...</td>\n",
              "      <td>...</td>\n",
              "      <td>...</td>\n",
              "      <td>...</td>\n",
              "      <td>...</td>\n",
              "      <td>...</td>\n",
              "      <td>...</td>\n",
              "      <td>...</td>\n",
              "    </tr>\n",
              "    <tr>\n",
              "      <th>999995</th>\n",
              "      <td>2008</td>\n",
              "      <td>0.272680</td>\n",
              "      <td>-0.547530</td>\n",
              "      <td>1.138216</td>\n",
              "      <td>0.135116</td>\n",
              "      <td>-0.055627</td>\n",
              "      <td>0.335748</td>\n",
              "      <td>-0.434452</td>\n",
              "      <td>0.360104</td>\n",
              "      <td>1.519035</td>\n",
              "      <td>1.267445</td>\n",
              "      <td>0.661670</td>\n",
              "      <td>-0.335957</td>\n",
              "      <td>-0.025507</td>\n",
              "      <td>-2.041482</td>\n",
              "      <td>0.742760</td>\n",
              "    </tr>\n",
              "    <tr>\n",
              "      <th>999996</th>\n",
              "      <td>2003</td>\n",
              "      <td>-1.326835</td>\n",
              "      <td>1.628809</td>\n",
              "      <td>-0.418786</td>\n",
              "      <td>0.207632</td>\n",
              "      <td>-1.113079</td>\n",
              "      <td>0.801642</td>\n",
              "      <td>-0.297992</td>\n",
              "      <td>-0.230202</td>\n",
              "      <td>-0.831293</td>\n",
              "      <td>-0.155903</td>\n",
              "      <td>0.960424</td>\n",
              "      <td>-0.197980</td>\n",
              "      <td>1.825126</td>\n",
              "      <td>0.057595</td>\n",
              "      <td>-0.869767</td>\n",
              "    </tr>\n",
              "    <tr>\n",
              "      <th>999997</th>\n",
              "      <td>2002</td>\n",
              "      <td>-1.294700</td>\n",
              "      <td>0.365997</td>\n",
              "      <td>-0.631927</td>\n",
              "      <td>-0.602167</td>\n",
              "      <td>0.946146</td>\n",
              "      <td>0.354020</td>\n",
              "      <td>1.375709</td>\n",
              "      <td>-0.656847</td>\n",
              "      <td>-1.279826</td>\n",
              "      <td>-0.776714</td>\n",
              "      <td>-0.118042</td>\n",
              "      <td>-1.143189</td>\n",
              "      <td>-0.027560</td>\n",
              "      <td>0.488546</td>\n",
              "      <td>-0.075595</td>\n",
              "    </tr>\n",
              "    <tr>\n",
              "      <th>999998</th>\n",
              "      <td>2008</td>\n",
              "      <td>-0.567128</td>\n",
              "      <td>0.842108</td>\n",
              "      <td>-0.014017</td>\n",
              "      <td>-1.904270</td>\n",
              "      <td>-1.797044</td>\n",
              "      <td>0.351553</td>\n",
              "      <td>-0.080160</td>\n",
              "      <td>-1.191733</td>\n",
              "      <td>-1.422979</td>\n",
              "      <td>0.550327</td>\n",
              "      <td>-0.315597</td>\n",
              "      <td>0.458799</td>\n",
              "      <td>0.598073</td>\n",
              "      <td>0.332689</td>\n",
              "      <td>-0.644473</td>\n",
              "    </tr>\n",
              "    <tr>\n",
              "      <th>999999</th>\n",
              "      <td>2007</td>\n",
              "      <td>1.538704</td>\n",
              "      <td>-0.387910</td>\n",
              "      <td>0.963510</td>\n",
              "      <td>0.033272</td>\n",
              "      <td>0.486001</td>\n",
              "      <td>-0.902687</td>\n",
              "      <td>-0.588338</td>\n",
              "      <td>-1.312792</td>\n",
              "      <td>-1.079819</td>\n",
              "      <td>0.669405</td>\n",
              "      <td>0.338618</td>\n",
              "      <td>-0.784797</td>\n",
              "      <td>0.981233</td>\n",
              "      <td>1.001764</td>\n",
              "      <td>1.122909</td>\n",
              "    </tr>\n",
              "  </tbody>\n",
              "</table>\n",
              "<p>1000000 rows x 16 columns</p>\n",
              "</div>"
            ]
          },
          "metadata": {},
          "output_type": "display_data"
        }
      ],
      "source": [
        "def generate_random_data(size):\n",
        "    df = pd.DataFrame()\n",
        "    df[\"A\"] = np.random.choice(range(2000, 2010), size)\n",
        "    for e in list(\"BCDEFGHIJKLMNOP\"):\n",
        "        df[e] = np.random.randn(size)\n",
        "    return df\n",
        "\n",
        "df = generate_random_data(10 ** 6)\n",
        "df"
      ]
    },
    {
      "cell_type": "code",
      "execution_count": null,
      "id": "95cd4927-3041-4378-a3f2-21e9b131046e",
      "metadata": {
        "id": "95cd4927-3041-4378-a3f2-21e9b131046e"
      },
      "outputs": [],
      "source": [
        "def demo_pushdown_projection(df, is_eager_mode = False):\n",
        "    from fireducks.core import get_fireducks_options\n",
        "    get_fireducks_options().set_benchmark_mode(is_eager_mode)\n",
        "\n",
        "    res = df.groupby(\"A\").sum()[[\"B\", \"C\"]]\n",
        "    print(res)"
      ]
    },
    {
      "cell_type": "code",
      "execution_count": null,
      "id": "f7a8c9d8-7796-408d-91c2-9bd7a66b0489",
      "metadata": {
        "id": "f7a8c9d8-7796-408d-91c2-9bd7a66b0489",
        "outputId": "72c4a39f-ee27-40ab-92da-979eee8ca396"
      },
      "outputs": [
        {
          "name": "stdout",
          "output_type": "stream",
          "text": [
            "               B           C\n",
            "A                           \n",
            "2000  636.260726 -119.329944\n",
            "2001 -287.418806  166.344993\n",
            "2002 -108.489035   45.700860\n",
            "2003  489.489007  -24.470316\n",
            "2004   74.299286 -273.948584\n",
            "2005  -68.709634   80.408973\n",
            "2006  269.193453   -5.237901\n",
            "2007  470.580818   17.016405\n",
            "2008 -614.801753 -453.329569\n",
            "2009 -261.078896    0.367935\n"
          ]
        },
        {
          "data": {
            "text/html": [
              "<style type=\"text/css\">\n",
              "#T_3171a caption {\n",
              "  text-align: center;\n",
              "  color: salmon;\n",
              "}\n",
              "</style>\n",
              "<table id=\"T_3171a\">\n",
              "  <caption>profiling-summary:: total: 7.9425 msec (fallback: 2.218 msec)</caption>\n",
              "  <thead>\n",
              "    <tr>\n",
              "      <th class=\"blank level0\" >&nbsp;</th>\n",
              "      <th id=\"T_3171a_level0_col0\" class=\"col_heading level0 col0\" >name</th>\n",
              "      <th id=\"T_3171a_level0_col1\" class=\"col_heading level0 col1\" >type</th>\n",
              "      <th id=\"T_3171a_level0_col2\" class=\"col_heading level0 col2\" >n_calls</th>\n",
              "      <th id=\"T_3171a_level0_col3\" class=\"col_heading level0 col3\" >duration (msec)</th>\n",
              "    </tr>\n",
              "  </thead>\n",
              "  <tbody>\n",
              "    <tr>\n",
              "      <th id=\"T_3171a_level0_row0\" class=\"row_heading level0 row0\" >0</th>\n",
              "      <td id=\"T_3171a_row0_col0\" class=\"data row0 col0\" >groupby_agg</td>\n",
              "      <td id=\"T_3171a_row0_col1\" class=\"data row0 col1\" >kernel</td>\n",
              "      <td id=\"T_3171a_row0_col2\" class=\"data row0 col2\" >1</td>\n",
              "      <td id=\"T_3171a_row0_col3\" class=\"data row0 col3\" >3.780583</td>\n",
              "    </tr>\n",
              "    <tr>\n",
              "      <th id=\"T_3171a_level0_row1\" class=\"row_heading level0 row1\" >1</th>\n",
              "      <td id=\"T_3171a_row1_col0\" class=\"data row1 col0\" >DataFrame.__repr__</td>\n",
              "      <td id=\"T_3171a_row1_col1\" class=\"data row1 col1\" >fallback</td>\n",
              "      <td id=\"T_3171a_row1_col2\" class=\"data row1 col2\" >1</td>\n",
              "      <td id=\"T_3171a_row1_col3\" class=\"data row1 col3\" >2.214825</td>\n",
              "    </tr>\n",
              "    <tr>\n",
              "      <th id=\"T_3171a_level0_row2\" class=\"row_heading level0 row2\" >2</th>\n",
              "      <td id=\"T_3171a_row2_col0\" class=\"data row2 col0\" >to_pandas.frame.metadata</td>\n",
              "      <td id=\"T_3171a_row2_col1\" class=\"data row2 col1\" >kernel</td>\n",
              "      <td id=\"T_3171a_row2_col2\" class=\"data row2 col2\" >1</td>\n",
              "      <td id=\"T_3171a_row2_col3\" class=\"data row2 col3\" >1.926742</td>\n",
              "    </tr>\n",
              "    <tr>\n",
              "      <th id=\"T_3171a_level0_row3\" class=\"row_heading level0 row3\" >3</th>\n",
              "      <td id=\"T_3171a_row3_col0\" class=\"data row3 col0\" >project</td>\n",
              "      <td id=\"T_3171a_row3_col1\" class=\"data row3 col1\" >kernel</td>\n",
              "      <td id=\"T_3171a_row3_col2\" class=\"data row3 col2\" >2</td>\n",
              "      <td id=\"T_3171a_row3_col3\" class=\"data row3 col3\" >0.010190</td>\n",
              "    </tr>\n",
              "    <tr>\n",
              "      <th id=\"T_3171a_level0_row4\" class=\"row_heading level0 row4\" >4</th>\n",
              "      <td id=\"T_3171a_row4_col0\" class=\"data row4 col0\" >getattr:__repr__</td>\n",
              "      <td id=\"T_3171a_row4_col1\" class=\"data row4 col1\" >fallback</td>\n",
              "      <td id=\"T_3171a_row4_col2\" class=\"data row4 col2\" >1</td>\n",
              "      <td id=\"T_3171a_row4_col3\" class=\"data row4 col3\" >0.003130</td>\n",
              "    </tr>\n",
              "    <tr>\n",
              "      <th id=\"T_3171a_level0_row5\" class=\"row_heading level0 row5\" >5</th>\n",
              "      <td id=\"T_3171a_row5_col0\" class=\"data row5 col0\" >get_shape</td>\n",
              "      <td id=\"T_3171a_row5_col1\" class=\"data row5 col1\" >kernel</td>\n",
              "      <td id=\"T_3171a_row5_col2\" class=\"data row5 col2\" >1</td>\n",
              "      <td id=\"T_3171a_row5_col3\" class=\"data row5 col3\" >0.002540</td>\n",
              "    </tr>\n",
              "  </tbody>\n",
              "</table>\n"
            ],
            "text/plain": [
              "<pandas.io.formats.style.Styler at 0x7fbc489691b0>"
            ]
          },
          "metadata": {},
          "output_type": "display_data"
        }
      ],
      "source": [
        "%%fireducks.profile\n",
        "demo_pushdown_projection(df, is_eager_mode = False)"
      ]
    },
    {
      "cell_type": "code",
      "execution_count": null,
      "id": "f979b3d4-3b14-4a9e-b011-fa51ebf59f75",
      "metadata": {
        "id": "f979b3d4-3b14-4a9e-b011-fa51ebf59f75",
        "outputId": "e2a3bb25-be28-46e2-a2b4-0a24bdee3b5d"
      },
      "outputs": [
        {
          "name": "stdout",
          "output_type": "stream",
          "text": [
            "               B           C\n",
            "A                           \n",
            "2000  636.260726 -119.329944\n",
            "2001 -287.418806  166.344993\n",
            "2002 -108.489035   45.700860\n",
            "2003  489.489007  -24.470316\n",
            "2004   74.299286 -273.948584\n",
            "2005  -68.709634   80.408973\n",
            "2006  269.193453   -5.237901\n",
            "2007  470.580818   17.016405\n",
            "2008 -614.801753 -453.329569\n",
            "2009 -261.078896    0.367935\n"
          ]
        },
        {
          "data": {
            "text/html": [
              "<style type=\"text/css\">\n",
              "#T_daa6b caption {\n",
              "  text-align: center;\n",
              "  color: salmon;\n",
              "}\n",
              "</style>\n",
              "<table id=\"T_daa6b\">\n",
              "  <caption>profiling-summary:: total: 13.9996 msec (fallback: 1.2236 msec)</caption>\n",
              "  <thead>\n",
              "    <tr>\n",
              "      <th class=\"blank level0\" >&nbsp;</th>\n",
              "      <th id=\"T_daa6b_level0_col0\" class=\"col_heading level0 col0\" >name</th>\n",
              "      <th id=\"T_daa6b_level0_col1\" class=\"col_heading level0 col1\" >type</th>\n",
              "      <th id=\"T_daa6b_level0_col2\" class=\"col_heading level0 col2\" >n_calls</th>\n",
              "      <th id=\"T_daa6b_level0_col3\" class=\"col_heading level0 col3\" >duration (msec)</th>\n",
              "    </tr>\n",
              "  </thead>\n",
              "  <tbody>\n",
              "    <tr>\n",
              "      <th id=\"T_daa6b_level0_row0\" class=\"row_heading level0 row0\" >0</th>\n",
              "      <td id=\"T_daa6b_row0_col0\" class=\"data row0 col0\" >groupby_agg</td>\n",
              "      <td id=\"T_daa6b_row0_col1\" class=\"data row0 col1\" >kernel</td>\n",
              "      <td id=\"T_daa6b_row0_col2\" class=\"data row0 col2\" >1</td>\n",
              "      <td id=\"T_daa6b_row0_col3\" class=\"data row0 col3\" >11.565220</td>\n",
              "    </tr>\n",
              "    <tr>\n",
              "      <th id=\"T_daa6b_level0_row1\" class=\"row_heading level0 row1\" >1</th>\n",
              "      <td id=\"T_daa6b_row1_col0\" class=\"data row1 col0\" >DataFrame.__repr__</td>\n",
              "      <td id=\"T_daa6b_row1_col1\" class=\"data row1 col1\" >fallback</td>\n",
              "      <td id=\"T_daa6b_row1_col2\" class=\"data row1 col2\" >1</td>\n",
              "      <td id=\"T_daa6b_row1_col3\" class=\"data row1 col3\" >1.219704</td>\n",
              "    </tr>\n",
              "    <tr>\n",
              "      <th id=\"T_daa6b_level0_row2\" class=\"row_heading level0 row2\" >2</th>\n",
              "      <td id=\"T_daa6b_row2_col0\" class=\"data row2 col0\" >to_pandas.frame.metadata</td>\n",
              "      <td id=\"T_daa6b_row2_col1\" class=\"data row2 col1\" >kernel</td>\n",
              "      <td id=\"T_daa6b_row2_col2\" class=\"data row2 col2\" >1</td>\n",
              "      <td id=\"T_daa6b_row2_col3\" class=\"data row2 col3\" >1.200374</td>\n",
              "    </tr>\n",
              "    <tr>\n",
              "      <th id=\"T_daa6b_level0_row3\" class=\"row_heading level0 row3\" >3</th>\n",
              "      <td id=\"T_daa6b_row3_col0\" class=\"data row3 col0\" >project</td>\n",
              "      <td id=\"T_daa6b_row3_col1\" class=\"data row3 col1\" >kernel</td>\n",
              "      <td id=\"T_daa6b_row3_col2\" class=\"data row3 col2\" >1</td>\n",
              "      <td id=\"T_daa6b_row3_col3\" class=\"data row3 col3\" >0.005060</td>\n",
              "    </tr>\n",
              "    <tr>\n",
              "      <th id=\"T_daa6b_level0_row4\" class=\"row_heading level0 row4\" >4</th>\n",
              "      <td id=\"T_daa6b_row4_col0\" class=\"data row4 col0\" >getattr:__repr__</td>\n",
              "      <td id=\"T_daa6b_row4_col1\" class=\"data row4 col1\" >fallback</td>\n",
              "      <td id=\"T_daa6b_row4_col2\" class=\"data row4 col2\" >1</td>\n",
              "      <td id=\"T_daa6b_row4_col3\" class=\"data row4 col3\" >0.003930</td>\n",
              "    </tr>\n",
              "    <tr>\n",
              "      <th id=\"T_daa6b_level0_row5\" class=\"row_heading level0 row5\" >5</th>\n",
              "      <td id=\"T_daa6b_row5_col0\" class=\"data row5 col0\" >get_shape</td>\n",
              "      <td id=\"T_daa6b_row5_col1\" class=\"data row5 col1\" >kernel</td>\n",
              "      <td id=\"T_daa6b_row5_col2\" class=\"data row5 col2\" >1</td>\n",
              "      <td id=\"T_daa6b_row5_col3\" class=\"data row5 col3\" >0.000400</td>\n",
              "    </tr>\n",
              "  </tbody>\n",
              "</table>\n"
            ],
            "text/plain": [
              "<pandas.io.formats.style.Styler at 0x7fbc489684f0>"
            ]
          },
          "metadata": {},
          "output_type": "display_data"
        }
      ],
      "source": [
        "%%fireducks.profile\n",
        "demo_pushdown_projection(df, is_eager_mode = True)"
      ]
    },
    {
      "cell_type": "markdown",
      "id": "ff74eadc-f4d8-4006-aa31-456171e9e7e5",
      "metadata": {
        "id": "ff74eadc-f4d8-4006-aa31-456171e9e7e5"
      },
      "source": [
        "### 5. Predicate Projection"
      ]
    },
    {
      "cell_type": "code",
      "execution_count": null,
      "id": "348e18a2-4c6d-46c2-aac3-66db138f4d85",
      "metadata": {
        "id": "348e18a2-4c6d-46c2-aac3-66db138f4d85"
      },
      "outputs": [],
      "source": [
        "def demo_predicate_pushdown(df, is_eager_mode = False):\n",
        "    from fireducks.core import get_fireducks_options\n",
        "    get_fireducks_options().set_benchmark_mode(is_eager_mode)\n",
        "\n",
        "    res = df.sort_values(by=\"B\").pipe(lambda df: df[(df[\"A\"] > 2005) & (df[\"A\"] < 2008)])\n",
        "    print(res)"
      ]
    },
    {
      "cell_type": "code",
      "execution_count": null,
      "id": "1b8ae242-c7cc-4f4c-adeb-c6a1a88ab35f",
      "metadata": {
        "id": "1b8ae242-c7cc-4f4c-adeb-c6a1a88ab35f",
        "outputId": "9200249b-15be-44bb-ff84-fb51944da224"
      },
      "outputs": [
        {
          "name": "stdout",
          "output_type": "stream",
          "text": [
            "           A         B         C         D         E         F         G  \\\n",
            "740798  2007 -4.499804  0.073802  0.794763  0.571575  0.493793 -1.908167   \n",
            "936188  2006 -4.412715  1.026171 -0.337072 -0.217573  0.089585 -0.307275   \n",
            "341209  2007 -4.192614  0.114829  0.641555  0.615326  0.488293 -1.583569   \n",
            "869169  2007 -4.166337 -0.210371  0.863194  1.171357  1.438408  0.026189   \n",
            "826125  2006 -4.062738 -1.936141  0.753181  0.585812 -0.756294  0.572740   \n",
            "...      ...       ...       ...       ...       ...       ...       ...   \n",
            "964739  2006  3.893442  1.983628  0.194492  0.662519 -1.477432 -0.462078   \n",
            "743420  2006  3.895418  0.787685  0.219590 -1.290643 -1.882074 -0.230526   \n",
            "758849  2006  3.952089  1.412559  1.637176 -0.295840  0.097795 -1.039417   \n",
            "930196  2006  4.038731 -0.011697  1.809036  2.406499  2.599900  1.806853   \n",
            "902023  2007  4.559371  0.843798  0.581792  0.446892 -0.509769  1.080023   \n",
            "\n",
            "               H         I         J         K         L         M         N  \\\n",
            "740798 -1.538537  0.571165 -0.460141 -0.217827 -1.164662  1.000217  0.016297   \n",
            "936188  0.238630 -1.556524 -0.335124 -0.564315  1.234205 -1.107073  0.328225   \n",
            "341209  0.891011 -0.584539  1.179537  0.823704  0.729899 -0.262941  1.498937   \n",
            "869169  0.848238 -0.627289 -1.529249  0.043901  0.644722 -0.102493  2.229307   \n",
            "826125  1.328777 -0.924789 -2.796003  0.968135  1.381971 -0.644968 -0.646632   \n",
            "...          ...       ...       ...       ...       ...       ...       ...   \n",
            "964739 -1.957058 -0.629832  0.084349  2.017740 -0.563887 -0.346251 -0.375726   \n",
            "743420 -0.124013  0.776388  0.631008 -1.539790 -0.056519 -0.129233 -0.588039   \n",
            "758849 -0.076037  0.881847  0.610874  0.634239 -0.041426 -0.536778 -0.126519   \n",
            "930196  0.811065  0.829764  1.538855 -2.050674  2.068186 -0.247879  0.852434   \n",
            "902023  1.165944 -0.716873 -0.581377  0.059845 -0.024962 -0.516094  0.364135   \n",
            "\n",
            "               O         P  \n",
            "740798  0.662747  0.465267  \n",
            "936188  1.154047 -1.005788  \n",
            "341209  0.867038  0.166635  \n",
            "869169  0.188066  1.261326  \n",
            "826125  0.042567  1.316189  \n",
            "...          ...       ...  \n",
            "964739  1.580063 -0.741510  \n",
            "743420 -1.269006 -0.747982  \n",
            "758849 -1.086506 -0.676757  \n",
            "930196 -0.179620 -0.155063  \n",
            "902023 -0.701538 -0.219113  \n",
            "\n",
            "[200340 rows x 16 columns]\n"
          ]
        },
        {
          "data": {
            "text/html": [
              "<style type=\"text/css\">\n",
              "#T_27cf4 caption {\n",
              "  text-align: center;\n",
              "  color: salmon;\n",
              "}\n",
              "</style>\n",
              "<table id=\"T_27cf4\">\n",
              "  <caption>profiling-summary:: total: 261.4926 msec (fallback: 9.6253 msec)</caption>\n",
              "  <thead>\n",
              "    <tr>\n",
              "      <th class=\"blank level0\" >&nbsp;</th>\n",
              "      <th id=\"T_27cf4_level0_col0\" class=\"col_heading level0 col0\" >name</th>\n",
              "      <th id=\"T_27cf4_level0_col1\" class=\"col_heading level0 col1\" >type</th>\n",
              "      <th id=\"T_27cf4_level0_col2\" class=\"col_heading level0 col2\" >n_calls</th>\n",
              "      <th id=\"T_27cf4_level0_col3\" class=\"col_heading level0 col3\" >duration (msec)</th>\n",
              "    </tr>\n",
              "  </thead>\n",
              "  <tbody>\n",
              "    <tr>\n",
              "      <th id=\"T_27cf4_level0_row0\" class=\"row_heading level0 row0\" >0</th>\n",
              "      <td id=\"T_27cf4_row0_col0\" class=\"data row0 col0\" >sort_values</td>\n",
              "      <td id=\"T_27cf4_row0_col1\" class=\"data row0 col1\" >kernel</td>\n",
              "      <td id=\"T_27cf4_row0_col2\" class=\"data row0 col2\" >1</td>\n",
              "      <td id=\"T_27cf4_row0_col3\" class=\"data row0 col3\" >209.596285</td>\n",
              "    </tr>\n",
              "    <tr>\n",
              "      <th id=\"T_27cf4_level0_row1\" class=\"row_heading level0 row1\" >1</th>\n",
              "      <td id=\"T_27cf4_row1_col0\" class=\"data row1 col0\" >filter</td>\n",
              "      <td id=\"T_27cf4_row1_col1\" class=\"data row1 col1\" >kernel</td>\n",
              "      <td id=\"T_27cf4_row1_col2\" class=\"data row1 col2\" >1</td>\n",
              "      <td id=\"T_27cf4_row1_col3\" class=\"data row1 col3\" >20.317437</td>\n",
              "    </tr>\n",
              "    <tr>\n",
              "      <th id=\"T_27cf4_level0_row2\" class=\"row_heading level0 row2\" >2</th>\n",
              "      <td id=\"T_27cf4_row2_col0\" class=\"data row2 col0\" >DataFrame.__repr__</td>\n",
              "      <td id=\"T_27cf4_row2_col1\" class=\"data row2 col1\" >fallback</td>\n",
              "      <td id=\"T_27cf4_row2_col2\" class=\"data row2 col2\" >1</td>\n",
              "      <td id=\"T_27cf4_row2_col3\" class=\"data row2 col3\" >9.617188</td>\n",
              "    </tr>\n",
              "    <tr>\n",
              "      <th id=\"T_27cf4_level0_row3\" class=\"row_heading level0 row3\" >3</th>\n",
              "      <td id=\"T_27cf4_row3_col0\" class=\"data row3 col0\" >lt.vector.scalar</td>\n",
              "      <td id=\"T_27cf4_row3_col1\" class=\"data row3 col1\" >kernel</td>\n",
              "      <td id=\"T_27cf4_row3_col2\" class=\"data row3 col2\" >1</td>\n",
              "      <td id=\"T_27cf4_row3_col3\" class=\"data row3 col3\" >8.116611</td>\n",
              "    </tr>\n",
              "    <tr>\n",
              "      <th id=\"T_27cf4_level0_row4\" class=\"row_heading level0 row4\" >4</th>\n",
              "      <td id=\"T_27cf4_row4_col0\" class=\"data row4 col0\" >gt.vector.scalar</td>\n",
              "      <td id=\"T_27cf4_row4_col1\" class=\"data row4 col1\" >kernel</td>\n",
              "      <td id=\"T_27cf4_row4_col2\" class=\"data row4 col2\" >1</td>\n",
              "      <td id=\"T_27cf4_row4_col3\" class=\"data row4 col3\" >6.145829</td>\n",
              "    </tr>\n",
              "    <tr>\n",
              "      <th id=\"T_27cf4_level0_row5\" class=\"row_heading level0 row5\" >5</th>\n",
              "      <td id=\"T_27cf4_row5_col0\" class=\"data row5 col0\" >and.vector.vector</td>\n",
              "      <td id=\"T_27cf4_row5_col1\" class=\"data row5 col1\" >kernel</td>\n",
              "      <td id=\"T_27cf4_row5_col2\" class=\"data row5 col2\" >1</td>\n",
              "      <td id=\"T_27cf4_row5_col3\" class=\"data row5 col3\" >6.065267</td>\n",
              "    </tr>\n",
              "    <tr>\n",
              "      <th id=\"T_27cf4_level0_row6\" class=\"row_heading level0 row6\" >6</th>\n",
              "      <td id=\"T_27cf4_row6_col0\" class=\"data row6 col0\" >to_pandas.frame.metadata</td>\n",
              "      <td id=\"T_27cf4_row6_col1\" class=\"data row6 col1\" >kernel</td>\n",
              "      <td id=\"T_27cf4_row6_col2\" class=\"data row6 col2\" >1</td>\n",
              "      <td id=\"T_27cf4_row6_col3\" class=\"data row6 col3\" >1.480207</td>\n",
              "    </tr>\n",
              "    <tr>\n",
              "      <th id=\"T_27cf4_level0_row7\" class=\"row_heading level0 row7\" >7</th>\n",
              "      <td id=\"T_27cf4_row7_col0\" class=\"data row7 col0\" >slice</td>\n",
              "      <td id=\"T_27cf4_row7_col1\" class=\"data row7 col1\" >kernel</td>\n",
              "      <td id=\"T_27cf4_row7_col2\" class=\"data row7 col2\" >2</td>\n",
              "      <td id=\"T_27cf4_row7_col3\" class=\"data row7 col3\" >0.084741</td>\n",
              "    </tr>\n",
              "    <tr>\n",
              "      <th id=\"T_27cf4_level0_row8\" class=\"row_heading level0 row8\" >8</th>\n",
              "      <td id=\"T_27cf4_row8_col0\" class=\"data row8 col0\" >concat</td>\n",
              "      <td id=\"T_27cf4_row8_col1\" class=\"data row8 col1\" >kernel</td>\n",
              "      <td id=\"T_27cf4_row8_col2\" class=\"data row8 col2\" >1</td>\n",
              "      <td id=\"T_27cf4_row8_col3\" class=\"data row8 col3\" >0.045331</td>\n",
              "    </tr>\n",
              "    <tr>\n",
              "      <th id=\"T_27cf4_level0_row9\" class=\"row_heading level0 row9\" >9</th>\n",
              "      <td id=\"T_27cf4_row9_col0\" class=\"data row9 col0\" >getattr:__repr__</td>\n",
              "      <td id=\"T_27cf4_row9_col1\" class=\"data row9 col1\" >fallback</td>\n",
              "      <td id=\"T_27cf4_row9_col2\" class=\"data row9 col2\" >1</td>\n",
              "      <td id=\"T_27cf4_row9_col3\" class=\"data row9 col3\" >0.008140</td>\n",
              "    </tr>\n",
              "    <tr>\n",
              "      <th class=\"row_heading level0 row_trim\" >...</th>\n",
              "      <td class=\"data col0 row_trim\" >...</td>\n",
              "      <td class=\"data col1 row_trim\" >...</td>\n",
              "      <td class=\"data col2 row_trim\" >...</td>\n",
              "      <td class=\"data col3 row_trim\" >...</td>\n",
              "    </tr>\n",
              "  </tbody>\n",
              "</table>\n"
            ],
            "text/plain": [
              "<pandas.io.formats.style.Styler at 0x7fbc4898cd60>"
            ]
          },
          "metadata": {},
          "output_type": "display_data"
        }
      ],
      "source": [
        "%%fireducks.profile\n",
        "demo_predicate_pushdown(df, is_eager_mode = False)"
      ]
    },
    {
      "cell_type": "code",
      "execution_count": null,
      "id": "e0ddadf4-204a-471c-bf9b-c784fe643c4a",
      "metadata": {
        "id": "e0ddadf4-204a-471c-bf9b-c784fe643c4a",
        "outputId": "45246cba-dd3d-4910-ce97-4bf9a4f4c602"
      },
      "outputs": [
        {
          "name": "stdout",
          "output_type": "stream",
          "text": [
            "           A         B         C         D         E         F         G  \\\n",
            "740798  2007 -4.499804  0.073802  0.794763  0.571575  0.493793 -1.908167   \n",
            "936188  2006 -4.412715  1.026171 -0.337072 -0.217573  0.089585 -0.307275   \n",
            "341209  2007 -4.192614  0.114829  0.641555  0.615326  0.488293 -1.583569   \n",
            "869169  2007 -4.166337 -0.210371  0.863194  1.171357  1.438408  0.026189   \n",
            "826125  2006 -4.062738 -1.936141  0.753181  0.585812 -0.756294  0.572740   \n",
            "...      ...       ...       ...       ...       ...       ...       ...   \n",
            "964739  2006  3.893442  1.983628  0.194492  0.662519 -1.477432 -0.462078   \n",
            "743420  2006  3.895418  0.787685  0.219590 -1.290643 -1.882074 -0.230526   \n",
            "758849  2006  3.952089  1.412559  1.637176 -0.295840  0.097795 -1.039417   \n",
            "930196  2006  4.038731 -0.011697  1.809036  2.406499  2.599900  1.806853   \n",
            "902023  2007  4.559371  0.843798  0.581792  0.446892 -0.509769  1.080023   \n",
            "\n",
            "               H         I         J         K         L         M         N  \\\n",
            "740798 -1.538537  0.571165 -0.460141 -0.217827 -1.164662  1.000217  0.016297   \n",
            "936188  0.238630 -1.556524 -0.335124 -0.564315  1.234205 -1.107073  0.328225   \n",
            "341209  0.891011 -0.584539  1.179537  0.823704  0.729899 -0.262941  1.498937   \n",
            "869169  0.848238 -0.627289 -1.529249  0.043901  0.644722 -0.102493  2.229307   \n",
            "826125  1.328777 -0.924789 -2.796003  0.968135  1.381971 -0.644968 -0.646632   \n",
            "...          ...       ...       ...       ...       ...       ...       ...   \n",
            "964739 -1.957058 -0.629832  0.084349  2.017740 -0.563887 -0.346251 -0.375726   \n",
            "743420 -0.124013  0.776388  0.631008 -1.539790 -0.056519 -0.129233 -0.588039   \n",
            "758849 -0.076037  0.881847  0.610874  0.634239 -0.041426 -0.536778 -0.126519   \n",
            "930196  0.811065  0.829764  1.538855 -2.050674  2.068186 -0.247879  0.852434   \n",
            "902023  1.165944 -0.716873 -0.581377  0.059845 -0.024962 -0.516094  0.364135   \n",
            "\n",
            "               O         P  \n",
            "740798  0.662747  0.465267  \n",
            "936188  1.154047 -1.005788  \n",
            "341209  0.867038  0.166635  \n",
            "869169  0.188066  1.261326  \n",
            "826125  0.042567  1.316189  \n",
            "...          ...       ...  \n",
            "964739  1.580063 -0.741510  \n",
            "743420 -1.269006 -0.747982  \n",
            "758849 -1.086506 -0.676757  \n",
            "930196 -0.179620 -0.155063  \n",
            "902023 -0.701538 -0.219113  \n",
            "\n",
            "[200340 rows x 16 columns]\n"
          ]
        },
        {
          "data": {
            "text/html": [
              "<style type=\"text/css\">\n",
              "#T_6022a caption {\n",
              "  text-align: center;\n",
              "  color: salmon;\n",
              "}\n",
              "</style>\n",
              "<table id=\"T_6022a\">\n",
              "  <caption>profiling-summary:: total: 108.8913 msec (fallback: 7.0294 msec)</caption>\n",
              "  <thead>\n",
              "    <tr>\n",
              "      <th class=\"blank level0\" >&nbsp;</th>\n",
              "      <th id=\"T_6022a_level0_col0\" class=\"col_heading level0 col0\" >name</th>\n",
              "      <th id=\"T_6022a_level0_col1\" class=\"col_heading level0 col1\" >type</th>\n",
              "      <th id=\"T_6022a_level0_col2\" class=\"col_heading level0 col2\" >n_calls</th>\n",
              "      <th id=\"T_6022a_level0_col3\" class=\"col_heading level0 col3\" >duration (msec)</th>\n",
              "    </tr>\n",
              "  </thead>\n",
              "  <tbody>\n",
              "    <tr>\n",
              "      <th id=\"T_6022a_level0_row0\" class=\"row_heading level0 row0\" >0</th>\n",
              "      <td id=\"T_6022a_row0_col0\" class=\"data row0 col0\" >sort_values</td>\n",
              "      <td id=\"T_6022a_row0_col1\" class=\"data row0 col1\" >kernel</td>\n",
              "      <td id=\"T_6022a_row0_col2\" class=\"data row0 col2\" >1</td>\n",
              "      <td id=\"T_6022a_row0_col3\" class=\"data row0 col3\" >80.317858</td>\n",
              "    </tr>\n",
              "    <tr>\n",
              "      <th id=\"T_6022a_level0_row1\" class=\"row_heading level0 row1\" >1</th>\n",
              "      <td id=\"T_6022a_row1_col0\" class=\"data row1 col0\" >filter</td>\n",
              "      <td id=\"T_6022a_row1_col1\" class=\"data row1 col1\" >kernel</td>\n",
              "      <td id=\"T_6022a_row1_col2\" class=\"data row1 col2\" >1</td>\n",
              "      <td id=\"T_6022a_row1_col3\" class=\"data row1 col3\" >17.310394</td>\n",
              "    </tr>\n",
              "    <tr>\n",
              "      <th id=\"T_6022a_level0_row2\" class=\"row_heading level0 row2\" >2</th>\n",
              "      <td id=\"T_6022a_row2_col0\" class=\"data row2 col0\" >DataFrame.__repr__</td>\n",
              "      <td id=\"T_6022a_row2_col1\" class=\"data row2 col1\" >fallback</td>\n",
              "      <td id=\"T_6022a_row2_col2\" class=\"data row2 col2\" >1</td>\n",
              "      <td id=\"T_6022a_row2_col3\" class=\"data row2 col3\" >7.023559</td>\n",
              "    </tr>\n",
              "    <tr>\n",
              "      <th id=\"T_6022a_level0_row3\" class=\"row_heading level0 row3\" >3</th>\n",
              "      <td id=\"T_6022a_row3_col0\" class=\"data row3 col0\" >to_pandas.frame.metadata</td>\n",
              "      <td id=\"T_6022a_row3_col1\" class=\"data row3 col1\" >kernel</td>\n",
              "      <td id=\"T_6022a_row3_col2\" class=\"data row3 col2\" >1</td>\n",
              "      <td id=\"T_6022a_row3_col3\" class=\"data row3 col3\" >1.276964</td>\n",
              "    </tr>\n",
              "    <tr>\n",
              "      <th id=\"T_6022a_level0_row4\" class=\"row_heading level0 row4\" >4</th>\n",
              "      <td id=\"T_6022a_row4_col0\" class=\"data row4 col0\" >gt.vector.scalar</td>\n",
              "      <td id=\"T_6022a_row4_col1\" class=\"data row4 col1\" >kernel</td>\n",
              "      <td id=\"T_6022a_row4_col2\" class=\"data row4 col2\" >1</td>\n",
              "      <td id=\"T_6022a_row4_col3\" class=\"data row4 col3\" >1.019981</td>\n",
              "    </tr>\n",
              "    <tr>\n",
              "      <th id=\"T_6022a_level0_row5\" class=\"row_heading level0 row5\" >5</th>\n",
              "      <td id=\"T_6022a_row5_col0\" class=\"data row5 col0\" >lt.vector.scalar</td>\n",
              "      <td id=\"T_6022a_row5_col1\" class=\"data row5 col1\" >kernel</td>\n",
              "      <td id=\"T_6022a_row5_col2\" class=\"data row5 col2\" >1</td>\n",
              "      <td id=\"T_6022a_row5_col3\" class=\"data row5 col3\" >0.921200</td>\n",
              "    </tr>\n",
              "    <tr>\n",
              "      <th id=\"T_6022a_level0_row6\" class=\"row_heading level0 row6\" >6</th>\n",
              "      <td id=\"T_6022a_row6_col0\" class=\"data row6 col0\" >and.vector.vector</td>\n",
              "      <td id=\"T_6022a_row6_col1\" class=\"data row6 col1\" >kernel</td>\n",
              "      <td id=\"T_6022a_row6_col2\" class=\"data row6 col2\" >1</td>\n",
              "      <td id=\"T_6022a_row6_col3\" class=\"data row6 col3\" >0.865390</td>\n",
              "    </tr>\n",
              "    <tr>\n",
              "      <th id=\"T_6022a_level0_row7\" class=\"row_heading level0 row7\" >7</th>\n",
              "      <td id=\"T_6022a_row7_col0\" class=\"data row7 col0\" >slice</td>\n",
              "      <td id=\"T_6022a_row7_col1\" class=\"data row7 col1\" >kernel</td>\n",
              "      <td id=\"T_6022a_row7_col2\" class=\"data row7 col2\" >2</td>\n",
              "      <td id=\"T_6022a_row7_col3\" class=\"data row7 col3\" >0.090221</td>\n",
              "    </tr>\n",
              "    <tr>\n",
              "      <th id=\"T_6022a_level0_row8\" class=\"row_heading level0 row8\" >8</th>\n",
              "      <td id=\"T_6022a_row8_col0\" class=\"data row8 col0\" >concat</td>\n",
              "      <td id=\"T_6022a_row8_col1\" class=\"data row8 col1\" >kernel</td>\n",
              "      <td id=\"T_6022a_row8_col2\" class=\"data row8 col2\" >1</td>\n",
              "      <td id=\"T_6022a_row8_col3\" class=\"data row8 col3\" >0.029940</td>\n",
              "    </tr>\n",
              "    <tr>\n",
              "      <th id=\"T_6022a_level0_row9\" class=\"row_heading level0 row9\" >9</th>\n",
              "      <td id=\"T_6022a_row9_col0\" class=\"data row9 col0\" >project</td>\n",
              "      <td id=\"T_6022a_row9_col1\" class=\"data row9 col1\" >kernel</td>\n",
              "      <td id=\"T_6022a_row9_col2\" class=\"data row9 col2\" >2</td>\n",
              "      <td id=\"T_6022a_row9_col3\" class=\"data row9 col3\" >0.014840</td>\n",
              "    </tr>\n",
              "    <tr>\n",
              "      <th class=\"row_heading level0 row_trim\" >...</th>\n",
              "      <td class=\"data col0 row_trim\" >...</td>\n",
              "      <td class=\"data col1 row_trim\" >...</td>\n",
              "      <td class=\"data col2 row_trim\" >...</td>\n",
              "      <td class=\"data col3 row_trim\" >...</td>\n",
              "    </tr>\n",
              "  </tbody>\n",
              "</table>\n"
            ],
            "text/plain": [
              "<pandas.io.formats.style.Styler at 0x7fbc4898e9b0>"
            ]
          },
          "metadata": {},
          "output_type": "display_data"
        }
      ],
      "source": [
        "%%fireducks.profile\n",
        "demo_predicate_pushdown(df, is_eager_mode = True)"
      ]
    },
    {
      "cell_type": "code",
      "execution_count": null,
      "id": "e0b71ff6-ff3c-4d48-8196-d712251b7fb3",
      "metadata": {
        "id": "e0b71ff6-ff3c-4d48-8196-d712251b7fb3"
      },
      "outputs": [],
      "source": []
    }
  ],
  "metadata": {
    "kernelspec": {
      "display_name": "Python 3 (ipykernel)",
      "language": "python",
      "name": "python3"
    },
    "language_info": {
      "codemirror_mode": {
        "name": "ipython",
        "version": 3
      },
      "file_extension": ".py",
      "mimetype": "text/x-python",
      "name": "python",
      "nbconvert_exporter": "python",
      "pygments_lexer": "ipython3",
      "version": "3.10.12"
    },
    "colab": {
      "provenance": [],
      "include_colab_link": true
    }
  },
  "nbformat": 4,
  "nbformat_minor": 5
}